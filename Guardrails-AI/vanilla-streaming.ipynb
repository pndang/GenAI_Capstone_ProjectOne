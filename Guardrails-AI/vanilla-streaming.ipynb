{
 "cells": [
  {
   "cell_type": "code",
   "execution_count": null,
   "metadata": {},
   "outputs": [
    {
     "name": "stderr",
     "output_type": "stream",
     "text": [
      "WARNING: typer 0.12.5 does not provide the extra 'all'\n"
     ]
    }
   ],
   "source": [
    "# !pip install guardrails-ai -q"
   ]
  },
  {
   "cell_type": "code",
   "execution_count": 2,
   "metadata": {},
   "outputs": [],
   "source": [
    "from rich import print\n",
    "import guardrails as gd\n",
    "import litellm\n",
    "from IPython.display import clear_output\n",
    "import time"
   ]
  },
  {
   "cell_type": "code",
   "execution_count": 5,
   "metadata": {},
   "outputs": [
    {
     "ename": "ImportError",
     "evalue": "cannot import name 'CompetitorCheck' from 'guardrails.hub' (c:\\Users\\phuro\\UCSD\\HDSI_Capstone\\GenAI_Capstone_ProjectOne\\Guardrails-AI\\guardrails-ai-venv\\lib\\site-packages\\guardrails\\hub\\__init__.py)",
     "output_type": "error",
     "traceback": [
      "\u001b[1;31m---------------------------------------------------------------------------\u001b[0m",
      "\u001b[1;31mImportError\u001b[0m                               Traceback (most recent call last)",
      "Cell \u001b[1;32mIn[5], line 1\u001b[0m\n\u001b[1;32m----> 1\u001b[0m \u001b[38;5;28;01mfrom\u001b[39;00m \u001b[38;5;21;01mguardrails\u001b[39;00m\u001b[38;5;21;01m.\u001b[39;00m\u001b[38;5;21;01mhub\u001b[39;00m \u001b[38;5;28;01mimport\u001b[39;00m CompetitorCheck\n",
      "\u001b[1;31mImportError\u001b[0m: cannot import name 'CompetitorCheck' from 'guardrails.hub' (c:\\Users\\phuro\\UCSD\\HDSI_Capstone\\GenAI_Capstone_ProjectOne\\Guardrails-AI\\guardrails-ai-venv\\lib\\site-packages\\guardrails\\hub\\__init__.py)"
     ]
    }
   ],
   "source": [
    "from guardrails.hub import CompetitorCheck"
   ]
  },
  {
   "cell_type": "code",
   "execution_count": null,
   "metadata": {},
   "outputs": [],
   "source": []
  }
 ],
 "metadata": {
  "kernelspec": {
   "display_name": "guardrails-ai-venv",
   "language": "python",
   "name": "python3"
  },
  "language_info": {
   "codemirror_mode": {
    "name": "ipython",
    "version": 3
   },
   "file_extension": ".py",
   "mimetype": "text/x-python",
   "name": "python",
   "nbconvert_exporter": "python",
   "pygments_lexer": "ipython3",
   "version": "3.9.2"
  }
 },
 "nbformat": 4,
 "nbformat_minor": 2
}
