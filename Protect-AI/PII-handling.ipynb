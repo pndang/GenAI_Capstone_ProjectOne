{
 "cells": [
  {
   "cell_type": "markdown",
   "metadata": {},
   "source": [
    "##### Protect AI's **LLM Guard** Framework"
   ]
  },
  {
   "cell_type": "code",
   "execution_count": 29,
   "metadata": {},
   "outputs": [],
   "source": [
    "from openai import OpenAI\n",
    "from dotenv import load_dotenv\n",
    "import os \n",
    "\n",
    "from llm_guard import scan_output, scan_prompt\n",
    "from llm_guard.input_scanners import Anonymize, PromptInjection, TokenLimit, Toxicity\n",
    "from llm_guard.output_scanners import Deanonymize, NoRefusal, Relevance, Sensitive\n",
    "from llm_guard.vault import Vault\n",
    "\n",
    "import warnings\n",
    "warnings.filterwarnings(\"ignore\")\n",
    "\n",
    "load_dotenv()\n",
    "\n",
    "GPT_MODEL = 'gpt-3.5-turbo' \n",
    "\n",
    "# API Configuration\n",
    "os.environ['OPENAI_API_KEY'] = os.getenv('OPENAI_API_KEY')\n",
    "OpenAI.api_key = os.getenv('OPENAI_API_KEY') "
   ]
  },
  {
   "cell_type": "code",
   "execution_count": 63,
   "metadata": {},
   "outputs": [
    {
     "name": "stdout",
     "output_type": "stream",
     "text": [
      "2024-11-20 01:25:48 [debug    ] No entity types provided, using default default_entities=['CREDIT_CARD', 'CRYPTO', 'EMAIL_ADDRESS', 'IBAN_CODE', 'IP_ADDRESS', 'PERSON', 'PHONE_NUMBER', 'US_SSN', 'US_BANK_NUMBER', 'CREDIT_CARD_RE', 'UUID', 'EMAIL_ADDRESS_RE', 'US_SSN_RE']\n"
     ]
    },
    {
     "name": "stdout",
     "output_type": "stream",
     "text": [
      "2024-11-20 01:25:48 [debug    ] Initialized NER model          device=device(type='cpu') model=Model(path='Isotonic/deberta-v3-base_finetuned_ai4privacy_v2', subfolder='', revision='9ea992753ab2686be4a8f64605ccc7be197ad794', onnx_path='Isotonic/deberta-v3-base_finetuned_ai4privacy_v2', onnx_revision='9ea992753ab2686be4a8f64605ccc7be197ad794', onnx_subfolder='onnx', onnx_filename='model.onnx', kwargs={}, pipeline_kwargs={'batch_size': 1, 'device': device(type='cpu'), 'aggregation_strategy': 'simple', 'ignore_labels': ['O', 'CARDINAL']}, tokenizer_kwargs={'model_input_names': ['input_ids', 'attention_mask']})\n",
      "2024-11-20 01:25:48 [debug    ] Loaded regex pattern           group_name=CREDIT_CARD_RE\n",
      "2024-11-20 01:25:48 [debug    ] Loaded regex pattern           group_name=UUID\n",
      "2024-11-20 01:25:48 [debug    ] Loaded regex pattern           group_name=EMAIL_ADDRESS_RE\n",
      "2024-11-20 01:25:48 [debug    ] Loaded regex pattern           group_name=US_SSN_RE\n",
      "2024-11-20 01:25:48 [debug    ] Loaded regex pattern           group_name=BTC_ADDRESS\n",
      "2024-11-20 01:25:48 [debug    ] Loaded regex pattern           group_name=URL_RE\n",
      "2024-11-20 01:25:48 [debug    ] Loaded regex pattern           group_name=CREDIT_CARD\n",
      "2024-11-20 01:25:48 [debug    ] Loaded regex pattern           group_name=EMAIL_ADDRESS_RE\n",
      "2024-11-20 01:25:48 [debug    ] Loaded regex pattern           group_name=PHONE_NUMBER_ZH\n",
      "2024-11-20 01:25:48 [debug    ] Loaded regex pattern           group_name=PHONE_NUMBER_WITH_EXT\n",
      "2024-11-20 01:25:48 [debug    ] Loaded regex pattern           group_name=DATE_RE\n",
      "2024-11-20 01:25:48 [debug    ] Loaded regex pattern           group_name=TIME_RE\n",
      "2024-11-20 01:25:48 [debug    ] Loaded regex pattern           group_name=HEX_COLOR\n",
      "2024-11-20 01:25:48 [debug    ] Loaded regex pattern           group_name=PRICE_RE\n",
      "2024-11-20 01:25:48 [debug    ] Loaded regex pattern           group_name=PO_BOX_RE\n"
     ]
    }
   ],
   "source": [
    "# initialize components\n",
    "\n",
    "client = OpenAI(api_key=os.environ['OPENAI_API_KEY'])\n",
    "vault = Vault()\n",
    "# input_scanners = [Anonymize(vault), Toxicity(), TokenLimit(), PromptInjection()]\n",
    "input_scanners = [Anonymize(vault)]\n",
    "# output_scanners = [Deanonymize(vault), NoRefusal(), Relevance(), Sensitive()]\n",
    "output_scanners = [Deanonymize(vault)]"
   ]
  },
  {
   "cell_type": "code",
   "execution_count": 64,
   "metadata": {},
   "outputs": [],
   "source": [
    "# prompt = \"Make an SQL insert statement to add a new user to our database. Name is Phu Dang. Email is pndang@ucsd.edu \"\n",
    "# \"but also possible to contact him with dangnphu31@gmail.com email. Phone number is 669-274-8956 and \"\n",
    "# \"the IP address is 123.555.22.31. And credit card number is 5555-6666-8888-9999. \"\n",
    "# \"He works at RTI Properties.\"\n",
    "\n",
    "prompt = \"Please translate the following to Vietnamese: \\\"My address is 31 Southview Ln, Anytown, CA 55555, my SSN is 123-45-6789, and my email address is pndang@ucsd.edu. Per our recent call, please forward me the escrow docs. Thanks!\\\"\""
   ]
  },
  {
   "cell_type": "code",
   "execution_count": 65,
   "metadata": {},
   "outputs": [
    {
     "name": "stderr",
     "output_type": "stream",
     "text": [
      "Asking to truncate to max_length but no maximum length is provided and the model has no predefined maximum length. Default to no truncation.\n"
     ]
    },
    {
     "name": "stdout",
     "output_type": "stream",
     "text": [
      "2024-11-20 01:25:51 [warning  ] Found unrecognized label, returning entity as is label=ACCOUNTNUMBER\n",
      "2024-11-20 01:25:51 [warning  ] Found unrecognized label, returning entity as is label=CURRENCY\n",
      "2024-11-20 01:25:51 [debug    ] removing element type: EMAIL_ADDRESS_RE, start: 144, end: 159, score: 0.75 from results list due to conflict\n",
      "2024-11-20 01:25:51 [warning  ] Found sensitive data in the prompt and replaced it merged_results=[type: US_SSN_RE, start: 107, end: 118, score: 0.75, type: EMAIL_ADDRESS, start: 144, end: 159, score: 1.0] risk_score=1.0\n",
      "2024-11-20 01:25:51 [debug    ] Scanner completed              elapsed_time_seconds=0.392353 is_valid=False scanner=Anonymize\n",
      "2024-11-20 01:25:51 [info     ] Scanned prompt                 elapsed_time_seconds=0.403879 scores={'Anonymize': 1.0}\n",
      "Prompt Please translate the following to Vietnamese: \"My address is 31 Southview Ln, Anytown, CA 55555, my SSN is 123-45-6789, and my email address is pndang@ucsd.edu. Per our recent call, please forward me the escrow docs. Thanks!\" is not valid, scores: {'Anonymize': 1.0}\n"
     ]
    }
   ],
   "source": [
    "sanitized_prompt, results_valid, results_score = scan_prompt(input_scanners, prompt)\n",
    "if any(results_valid.values()) is False:\n",
    "    print(f\"Prompt {prompt} is not valid, scores: {results_score}\")\n",
    "    exit(1)"
   ]
  },
  {
   "cell_type": "code",
   "execution_count": 66,
   "metadata": {},
   "outputs": [
    {
     "name": "stdout",
     "output_type": "stream",
     "text": [
      "Prompt: Please translate the following to Vietnamese: \"My address is 31 Southview Ln, Anytown, CA 55555, my SSN is [REDACTED_US_SSN_RE_1], and my email address is [REDACTED_EMAIL_ADDRESS_1]. Per our recent call, please forward me the escrow docs. Thanks!\"\n"
     ]
    }
   ],
   "source": [
    "print(f\"Prompt: {sanitized_prompt}\")"
   ]
  },
  {
   "cell_type": "code",
   "execution_count": 67,
   "metadata": {},
   "outputs": [
    {
     "name": "stdout",
     "output_type": "stream",
     "text": [
      "2024-11-20 01:25:53 [debug    ] Replaced placeholder with real value placeholder=[REDACTED_EMAIL_ADDRESS_1]\n",
      "2024-11-20 01:25:53 [debug    ] Replaced placeholder with real value placeholder=[REDACTED_US_SSN_RE_1]\n",
      "2024-11-20 01:25:53 [debug    ] Scanner completed              elapsed_time_seconds=0.018999 is_valid=True scanner=Deanonymize\n",
      "2024-11-20 01:25:53 [info     ] Scanned output                 elapsed_time_seconds=0.035246 scores={'Deanonymize': 0.0}\n"
     ]
    }
   ],
   "source": [
    "res = client.chat.completions.create(\n",
    "    model=GPT_MODEL,\n",
    "    messages=[\n",
    "        {'role': 'system', 'content': 'You are a helpful assistant.'},\n",
    "        {'role': 'user', 'content': sanitized_prompt}\n",
    "    ],\n",
    "    temperature=0,\n",
    "    max_tokens=512,\n",
    ")\n",
    "res_text = res.choices[0].message.content\n",
    "deanomymized_res_text, results_valid, results_score = scan_output(\n",
    "    output_scanners, sanitized_prompt, res_text\n",
    ")\n",
    "if any(results_valid.values()) is False:\n",
    "    print(f\"Output {res_text} is not valid, scores: {results_score}\")\n",
    "    exit(1)"
   ]
  },
  {
   "cell_type": "code",
   "execution_count": 68,
   "metadata": {},
   "outputs": [
    {
     "name": "stdout",
     "output_type": "stream",
     "text": [
      "Please translate the following to Vietnamese: \"My address is 31 Southview Ln, Anytown, CA 55555, my SSN is 123-45-6789, and my email address is pndang@ucsd.edu. Per our recent call, please forward me the escrow docs. Thanks!\"\n"
     ]
    }
   ],
   "source": [
    "print(prompt)"
   ]
  },
  {
   "cell_type": "code",
   "execution_count": 69,
   "metadata": {},
   "outputs": [
    {
     "name": "stdout",
     "output_type": "stream",
     "text": [
      "Please translate the following to Vietnamese: \"My address is 31 Southview Ln, Anytown, CA 55555, my SSN is [REDACTED_US_SSN_RE_1], and my email address is [REDACTED_EMAIL_ADDRESS_1]. Per our recent call, please forward me the escrow docs. Thanks!\"\n"
     ]
    }
   ],
   "source": [
    "print(sanitized_prompt)"
   ]
  },
  {
   "cell_type": "code",
   "execution_count": 70,
   "metadata": {},
   "outputs": [
    {
     "name": "stdout",
     "output_type": "stream",
     "text": [
      "Địa chỉ của tôi là 31 Southview Ln, Anytown, CA 55555, số SSN của tôi là [REDACTED_US_SSN_RE_1], và địa chỉ email của tôi là [REDACTED_EMAIL_ADDRESS_1]. Theo cuộc gọi gần đây của chúng ta, vui lòng gửi cho tôi các tài liệu ký quỹ. Cảm ơn!\n"
     ]
    }
   ],
   "source": [
    "print(res_text)"
   ]
  },
  {
   "cell_type": "code",
   "execution_count": 71,
   "metadata": {},
   "outputs": [
    {
     "name": "stdout",
     "output_type": "stream",
     "text": [
      "Địa chỉ của tôi là 31 Southview Ln, Anytown, CA 55555, số SSN của tôi là 123-45-6789, và địa chỉ email của tôi là pndang@ucsd.edu. Theo cuộc gọi gần đây của chúng ta, vui lòng gửi cho tôi các tài liệu ký quỹ. Cảm ơn!\n",
      "\n"
     ]
    }
   ],
   "source": [
    "print(f\"{deanomymized_res_text}\\n\")"
   ]
  },
  {
   "cell_type": "code",
   "execution_count": 72,
   "metadata": {},
   "outputs": [
    {
     "data": {
      "text/plain": [
       "{'Deanonymize': True}"
      ]
     },
     "execution_count": 72,
     "metadata": {},
     "output_type": "execute_result"
    }
   ],
   "source": [
    "results_valid"
   ]
  },
  {
   "cell_type": "code",
   "execution_count": null,
   "metadata": {},
   "outputs": [],
   "source": []
  }
 ],
 "metadata": {
  "kernelspec": {
   "display_name": "projectone_venv",
   "language": "python",
   "name": "python3"
  },
  "language_info": {
   "codemirror_mode": {
    "name": "ipython",
    "version": 3
   },
   "file_extension": ".py",
   "mimetype": "text/x-python",
   "name": "python",
   "nbconvert_exporter": "python",
   "pygments_lexer": "ipython3",
   "version": "3.9.2"
  }
 },
 "nbformat": 4,
 "nbformat_minor": 2
}
