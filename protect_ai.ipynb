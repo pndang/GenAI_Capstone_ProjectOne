{
 "cells": [
  {
   "cell_type": "markdown",
   "metadata": {},
   "source": [
    "##### Protect AI's **LLM Guard** Framework"
   ]
  },
  {
   "cell_type": "code",
   "execution_count": 1,
   "metadata": {},
   "outputs": [
    {
     "name": "stderr",
     "output_type": "stream",
     "text": [
      "c:\\Users\\phuro\\UCSD\\HDSI_Capstone\\GenAI_Capstone_ProjectOne\\projectone_venv\\lib\\site-packages\\tqdm\\auto.py:21: TqdmWarning: IProgress not found. Please update jupyter and ipywidgets. See https://ipywidgets.readthedocs.io/en/stable/user_install.html\n",
      "  from .autonotebook import tqdm as notebook_tqdm\n"
     ]
    }
   ],
   "source": [
    "from openai import OpenAI\n",
    "from dotenv import load_dotenv\n",
    "import os \n",
    "\n",
    "from llm_guard import scan_output, scan_prompt\n",
    "from llm_guard.input_scanners import Anonymize, PromptInjection, TokenLimit, Toxicity\n",
    "from llm_guard.output_scanners import Deanonymize, NoRefusal, Relevance, Sensitive\n",
    "from llm_guard.vault import Vault\n",
    "\n",
    "import warnings\n",
    "warnings.filterwarnings(\"ignore\")\n",
    "\n",
    "load_dotenv()\n",
    "\n",
    "GPT_MODEL = 'gpt-4o' \n",
    "\n",
    "# API Configuration\n",
    "os.environ['OPENAI_API_KEY'] = os.getenv('OPENAI_API_KEY')\n",
    "OpenAI.api_key = os.getenv('OPENAI_API_KEY') "
   ]
  },
  {
   "cell_type": "code",
   "execution_count": 2,
   "metadata": {},
   "outputs": [
    {
     "name": "stdout",
     "output_type": "stream",
     "text": [
      "2024-11-08 21:26:10 [debug    ] No entity types provided, using default default_entities=['CREDIT_CARD', 'CRYPTO', 'EMAIL_ADDRESS', 'IBAN_CODE', 'IP_ADDRESS', 'PERSON', 'PHONE_NUMBER', 'US_SSN', 'US_BANK_NUMBER', 'CREDIT_CARD_RE', 'UUID', 'EMAIL_ADDRESS_RE', 'US_SSN_RE']\n",
      "2024-11-08 21:26:11 [debug    ] Initialized NER model          device=device(type='cpu') model=Model(path='Isotonic/deberta-v3-base_finetuned_ai4privacy_v2', subfolder='', revision='9ea992753ab2686be4a8f64605ccc7be197ad794', onnx_path='Isotonic/deberta-v3-base_finetuned_ai4privacy_v2', onnx_revision='9ea992753ab2686be4a8f64605ccc7be197ad794', onnx_subfolder='onnx', onnx_filename='model.onnx', kwargs={}, pipeline_kwargs={'batch_size': 1, 'device': device(type='cpu'), 'aggregation_strategy': 'simple'}, tokenizer_kwargs={'model_input_names': ['input_ids', 'attention_mask']})\n",
      "2024-11-08 21:26:11 [debug    ] Loaded regex pattern           group_name=CREDIT_CARD_RE\n",
      "2024-11-08 21:26:11 [debug    ] Loaded regex pattern           group_name=UUID\n",
      "2024-11-08 21:26:11 [debug    ] Loaded regex pattern           group_name=EMAIL_ADDRESS_RE\n",
      "2024-11-08 21:26:11 [debug    ] Loaded regex pattern           group_name=US_SSN_RE\n",
      "2024-11-08 21:26:11 [debug    ] Loaded regex pattern           group_name=BTC_ADDRESS\n",
      "2024-11-08 21:26:11 [debug    ] Loaded regex pattern           group_name=URL_RE\n",
      "2024-11-08 21:26:11 [debug    ] Loaded regex pattern           group_name=CREDIT_CARD\n",
      "2024-11-08 21:26:11 [debug    ] Loaded regex pattern           group_name=EMAIL_ADDRESS_RE\n",
      "2024-11-08 21:26:11 [debug    ] Loaded regex pattern           group_name=PHONE_NUMBER_ZH\n",
      "2024-11-08 21:26:11 [debug    ] Loaded regex pattern           group_name=PHONE_NUMBER_WITH_EXT\n",
      "2024-11-08 21:26:11 [debug    ] Loaded regex pattern           group_name=DATE_RE\n",
      "2024-11-08 21:26:11 [debug    ] Loaded regex pattern           group_name=TIME_RE\n",
      "2024-11-08 21:26:11 [debug    ] Loaded regex pattern           group_name=HEX_COLOR\n",
      "2024-11-08 21:26:11 [debug    ] Loaded regex pattern           group_name=PRICE_RE\n",
      "2024-11-08 21:26:11 [debug    ] Loaded regex pattern           group_name=PO_BOX_RE\n",
      "✔ Download and installation successful\n",
      "You can now load the package via spacy.load('zh_core_web_sm')\n",
      "⚠ Restart to reload dependencies\n",
      "If you are in a Jupyter or Colab notebook, you may need to restart Python in\n",
      "order to load all the package's dependencies. You can do this by selecting the\n",
      "'Restart kernel' or 'Restart runtime' option.\n",
      "2024-11-08 21:27:29 [debug    ] Initialized classification model device=device(type='cpu') model=Model(path='unitary/unbiased-toxic-roberta', subfolder='', revision='36295dd80b422dc49f40052021430dae76241adc', onnx_path='ProtectAI/unbiased-toxic-roberta-onnx', onnx_revision='34480fa958f6657ad835c345808475755b6974a7', onnx_subfolder='', onnx_filename='model.onnx', kwargs={}, pipeline_kwargs={'batch_size': 1, 'device': device(type='cpu'), 'padding': 'max_length', 'top_k': None, 'function_to_apply': 'sigmoid', 'return_token_type_ids': False, 'max_length': 512, 'truncation': True}, tokenizer_kwargs={})\n",
      "2024-11-08 21:29:24 [debug    ] Initialized classification model device=device(type='cpu') model=Model(path='protectai/deberta-v3-base-prompt-injection-v2', subfolder='', revision='89b085cd330414d3e7d9dd787870f315957e1e9f', onnx_path='ProtectAI/deberta-v3-base-prompt-injection-v2', onnx_revision='89b085cd330414d3e7d9dd787870f315957e1e9f', onnx_subfolder='onnx', onnx_filename='model.onnx', kwargs={}, pipeline_kwargs={'batch_size': 1, 'device': device(type='cpu'), 'return_token_type_ids': False, 'max_length': 512, 'truncation': True}, tokenizer_kwargs={})\n",
      "2024-11-08 21:29:52 [debug    ] Initialized classification model device=device(type='cpu') model=Model(path='ProtectAI/distilroberta-base-rejection-v1', subfolder='', revision='65584967c3f22ff7723e5370c65e0e76791e6055', onnx_path='ProtectAI/distilroberta-base-rejection-v1', onnx_revision='65584967c3f22ff7723e5370c65e0e76791e6055', onnx_subfolder='onnx', onnx_filename='model.onnx', kwargs={}, pipeline_kwargs={'batch_size': 1, 'device': device(type='cpu'), 'return_token_type_ids': False, 'max_length': 128, 'truncation': True}, tokenizer_kwargs={})\n",
      "2024-11-08 21:30:24 [debug    ] Initialized model              device=device(type='cpu') model=Model(path='BAAI/bge-base-en-v1.5', subfolder='', revision='a5beb1e3e68b9ab74eb54cfd186867f64f240e1a', onnx_path='BAAI/bge-base-en-v1.5', onnx_revision='a5beb1e3e68b9ab74eb54cfd186867f64f240e1a', onnx_subfolder='onnx', onnx_filename='model.onnx', kwargs={}, pipeline_kwargs={'batch_size': 1, 'device': device(type='cpu')}, tokenizer_kwargs={})\n",
      "2024-11-08 21:30:25 [debug    ] No entity types provided, using default default_entity_types=['CREDIT_CARD', 'CRYPTO', 'EMAIL_ADDRESS', 'IBAN_CODE', 'IP_ADDRESS', 'PERSON', 'PHONE_NUMBER', 'US_SSN', 'US_BANK_NUMBER', 'CREDIT_CARD_RE', 'UUID', 'EMAIL_ADDRESS_RE', 'US_SSN_RE']\n",
      "2024-11-08 21:30:26 [debug    ] Initialized NER model          device=device(type='cpu') model=Model(path='Isotonic/deberta-v3-base_finetuned_ai4privacy_v2', subfolder='', revision='9ea992753ab2686be4a8f64605ccc7be197ad794', onnx_path='Isotonic/deberta-v3-base_finetuned_ai4privacy_v2', onnx_revision='9ea992753ab2686be4a8f64605ccc7be197ad794', onnx_subfolder='onnx', onnx_filename='model.onnx', kwargs={}, pipeline_kwargs={'batch_size': 1, 'device': device(type='cpu'), 'aggregation_strategy': 'simple', 'ignore_labels': ['O', 'CARDINAL']}, tokenizer_kwargs={'model_input_names': ['input_ids', 'attention_mask']})\n",
      "2024-11-08 21:30:26 [debug    ] Loaded regex pattern           group_name=CREDIT_CARD_RE\n",
      "2024-11-08 21:30:26 [debug    ] Loaded regex pattern           group_name=UUID\n",
      "2024-11-08 21:30:26 [debug    ] Loaded regex pattern           group_name=EMAIL_ADDRESS_RE\n",
      "2024-11-08 21:30:26 [debug    ] Loaded regex pattern           group_name=US_SSN_RE\n",
      "2024-11-08 21:30:26 [debug    ] Loaded regex pattern           group_name=BTC_ADDRESS\n",
      "2024-11-08 21:30:26 [debug    ] Loaded regex pattern           group_name=URL_RE\n",
      "2024-11-08 21:30:26 [debug    ] Loaded regex pattern           group_name=CREDIT_CARD\n",
      "2024-11-08 21:30:26 [debug    ] Loaded regex pattern           group_name=EMAIL_ADDRESS_RE\n",
      "2024-11-08 21:30:26 [debug    ] Loaded regex pattern           group_name=PHONE_NUMBER_ZH\n",
      "2024-11-08 21:30:26 [debug    ] Loaded regex pattern           group_name=PHONE_NUMBER_WITH_EXT\n",
      "2024-11-08 21:30:26 [debug    ] Loaded regex pattern           group_name=DATE_RE\n",
      "2024-11-08 21:30:26 [debug    ] Loaded regex pattern           group_name=TIME_RE\n",
      "2024-11-08 21:30:26 [debug    ] Loaded regex pattern           group_name=HEX_COLOR\n",
      "2024-11-08 21:30:26 [debug    ] Loaded regex pattern           group_name=PRICE_RE\n",
      "2024-11-08 21:30:26 [debug    ] Loaded regex pattern           group_name=PO_BOX_RE\n"
     ]
    }
   ],
   "source": [
    "# initialize components\n",
    "\n",
    "client = OpenAI(api_key=os.environ['OPENAI_API_KEY'])\n",
    "vault = Vault()\n",
    "input_scanners = [Anonymize(vault), Toxicity(), TokenLimit(), PromptInjection()]\n",
    "output_scanners = [Deanonymize(vault), NoRefusal(), Relevance(), Sensitive()]"
   ]
  },
  {
   "cell_type": "code",
   "execution_count": 5,
   "metadata": {},
   "outputs": [
    {
     "data": {
      "text/plain": [
       "'He works at RTI Properties.'"
      ]
     },
     "execution_count": 5,
     "metadata": {},
     "output_type": "execute_result"
    }
   ],
   "source": [
    "prompt = \"Make an SQL insert statement to add a new user to our database. Name is Phu Dang. Email is pndang@ucsd.edu \"\n",
    "\"but also possible to contact him with dangnphu31@gmail.com email. Phone number is 669-274-8956 and \"\n",
    "\"the IP address is 123.555.22.31. And credit card number is 5555-6666-8888-9999. \"\n",
    "\"He works at RTI Properties.\""
   ]
  },
  {
   "cell_type": "code",
   "execution_count": 7,
   "metadata": {},
   "outputs": [
    {
     "name": "stderr",
     "output_type": "stream",
     "text": [
      "Asking to truncate to max_length but no maximum length is provided and the model has no predefined maximum length. Default to no truncation.\n"
     ]
    },
    {
     "name": "stdout",
     "output_type": "stream",
     "text": [
      "2024-11-08 21:36:29 [debug    ] removing element type: EMAIL_ADDRESS_RE, start: 91, end: 106, score: 0.75 from results list due to conflict\n",
      "2024-11-08 21:36:29 [warning  ] Found sensitive data in the prompt and replaced it merged_results=[type: PERSON, start: 72, end: 80, score: 0.9900000095367432, type: EMAIL_ADDRESS, start: 91, end: 106, score: 1.0] risk_score=1.0\n",
      "2024-11-08 21:36:29 [debug    ] Scanner completed              elapsed_time_seconds=0.931442 is_valid=False scanner=Anonymize\n",
      "2024-11-08 21:36:30 [debug    ] Not toxicity found in the text results=[[{'label': 'toxicity', 'score': 0.0004069566202815622}, {'label': 'male', 'score': 0.00020465556008275598}, {'label': 'insult', 'score': 0.00013231522461865097}, {'label': 'psychiatric_or_mental_illness', 'score': 0.0001088515346054919}, {'label': 'female', 'score': 0.00010773175017675385}, {'label': 'christian', 'score': 6.688992289127782e-05}, {'label': 'muslim', 'score': 6.4440791902598e-05}, {'label': 'white', 'score': 5.628326107398607e-05}, {'label': 'obscene', 'score': 3.477228892734274e-05}, {'label': 'black', 'score': 3.4035267162835225e-05}, {'label': 'homosexual_gay_or_lesbian', 'score': 3.0160595997585915e-05}, {'label': 'threat', 'score': 2.6662275558919646e-05}, {'label': 'jewish', 'score': 2.6366742531536147e-05}, {'label': 'identity_attack', 'score': 2.5005403585964814e-05}, {'label': 'sexual_explicit', 'score': 2.1731008018832654e-05}, {'label': 'severe_toxicity', 'score': 1.1453512342995964e-06}]]\n",
      "2024-11-08 21:36:30 [debug    ] Scanner completed              elapsed_time_seconds=1.06746 is_valid=True scanner=Toxicity\n",
      "2024-11-08 21:36:30 [debug    ] Prompt fits the maximum tokens num_tokens=38 threshold=4096\n",
      "2024-11-08 21:36:30 [debug    ] Scanner completed              elapsed_time_seconds=0.016998 is_valid=True scanner=TokenLimit\n",
      "2024-11-08 21:36:31 [debug    ] No prompt injection detected   highest_score=0.0\n",
      "2024-11-08 21:36:31 [debug    ] Scanner completed              elapsed_time_seconds=0.397267 is_valid=True scanner=PromptInjection\n",
      "2024-11-08 21:36:31 [info     ] Scanned prompt                 elapsed_time_seconds=2.470531 scores={'Anonymize': 1.0, 'Toxicity': 0.0, 'TokenLimit': 0.0, 'PromptInjection': 0.0}\n"
     ]
    }
   ],
   "source": [
    "sanitized_prompt, results_valid, results_score = scan_prompt(input_scanners, prompt)\n",
    "if any(results_valid.values()) is False:\n",
    "    print(f\"Prompt {prompt} is not valid, scores: {results_score}\")\n",
    "    exit(1)"
   ]
  },
  {
   "cell_type": "code",
   "execution_count": 8,
   "metadata": {},
   "outputs": [
    {
     "name": "stdout",
     "output_type": "stream",
     "text": [
      "Prompt: Make an SQL insert statement to add a new user to our database. Name is [REDACTED_PERSON_1]. Email is [REDACTED_EMAIL_ADDRESS_1] \n"
     ]
    }
   ],
   "source": [
    "print(f\"Prompt: {sanitized_prompt}\")"
   ]
  },
  {
   "cell_type": "code",
   "execution_count": 28,
   "metadata": {},
   "outputs": [
    {
     "name": "stdout",
     "output_type": "stream",
     "text": [
      "2024-11-08 22:10:12 [debug    ] Replaced placeholder with real value placeholder=[REDACTED_EMAIL_ADDRESS_1]\n",
      "2024-11-08 22:10:12 [debug    ] Replaced placeholder with real value placeholder=[REDACTED_PERSON_1]\n",
      "2024-11-08 22:10:12 [debug    ] Scanner completed              elapsed_time_seconds=0.022002 is_valid=True scanner=Deanonymize\n",
      "2024-11-08 22:10:13 [debug    ] No rejection detected          highest_score=0.0\n",
      "2024-11-08 22:10:13 [debug    ] Scanner completed              elapsed_time_seconds=0.956642 is_valid=True scanner=NoRefusal\n",
      "2024-11-08 22:10:14 [debug    ] Result is similar to the prompt similarity_score=np.float32(0.8352221)\n",
      "2024-11-08 22:10:14 [debug    ] Scanner completed              elapsed_time_seconds=1.182117 is_valid=True scanner=Relevance\n"
     ]
    },
    {
     "name": "stderr",
     "output_type": "stream",
     "text": [
      "Asking to truncate to max_length but no maximum length is provided and the model has no predefined maximum length. Default to no truncation.\n"
     ]
    },
    {
     "name": "stdout",
     "output_type": "stream",
     "text": [
      "2024-11-08 22:10:14 [warning  ] Found sensitive data in the output results=[type: EMAIL_ADDRESS, start: 407, end: 422, score: 1.0, type: EMAIL_ADDRESS, start: 563, end: 578, score: 1.0, type: PERSON, start: 399, end: 403, score: 0.949999988079071, type: PERSON, start: 549, end: 551, score: 0.9300000071525574, type: PERSON, start: 395, end: 398, score: 0.8600000143051147, type: PERSON, start: 548, end: 549, score: 0.8100000023841858, type: EMAIL_ADDRESS_RE, start: 407, end: 422, score: 0.75, type: EMAIL_ADDRESS_RE, start: 563, end: 578, score: 0.75]\n",
      "2024-11-08 22:10:14 [debug    ] Scanner completed              elapsed_time_seconds=0.550503 is_valid=False scanner=Sensitive\n",
      "2024-11-08 22:10:14 [info     ] Scanned output                 elapsed_time_seconds=2.763967 scores={'Deanonymize': 0.0, 'NoRefusal': 0.0, 'Relevance': 0.0, 'Sensitive': 1.0}\n"
     ]
    }
   ],
   "source": [
    "res = client.chat.completions.create(\n",
    "    model=GPT_MODEL,\n",
    "    messages=[\n",
    "        {'role': 'system', 'content': 'YOu are a helpful assistant.'},\n",
    "        {'role': 'user', 'content': sanitized_prompt}\n",
    "    ],\n",
    "    temperature=0,\n",
    "    max_tokens=512,\n",
    ")\n",
    "res_text = res.choices[0].message.content\n",
    "sanitized_res_text, results_valid, results_score = scan_output(\n",
    "    output_scanners, sanitized_prompt, res_text\n",
    ")\n",
    "if any(results_valid.values()) is False:\n",
    "    print(f\"Output {res_text} is not valid, scores: {results_score}\")\n",
    "    exit(1)"
   ]
  },
  {
   "cell_type": "code",
   "execution_count": 34,
   "metadata": {},
   "outputs": [
    {
     "name": "stdout",
     "output_type": "stream",
     "text": [
      "To create an SQL `INSERT` statement for adding a new user to your database, you'll need to know the structure of your database table. For this example, let's assume your table is named `users` and it has columns `id`, `name`, and `email`. The `id` column is an auto-incrementing primary key.\n",
      "\n",
      "Here's how you can write the SQL `INSERT` statement:\n",
      "\n",
      "```sql\n",
      "INSERT INTO users (name, email) VALUES ('[REDACTED_PERSON_1]', '[REDACTED_EMAIL_ADDRESS_1]');\n",
      "```\n",
      "\n",
      "This statement will insert a new row into the `users` table with the specified name and email. Make sure to replace `[REDACTED_PERSON_1]` and `[REDACTED_EMAIL_ADDRESS_1]` with the actual name and email address when you execute the statement. If your table has additional columns that require values, you'll need to include those in the `INSERT` statement as well.\n"
     ]
    }
   ],
   "source": [
    "print(res_text)"
   ]
  },
  {
   "cell_type": "code",
   "execution_count": 30,
   "metadata": {},
   "outputs": [
    {
     "name": "stdout",
     "output_type": "stream",
     "text": [
      "Output: To create an SQL `INSERT` statement for adding a new user to your database, you'll need to know the structure of your database table. For this example, let's assume your table is named `users` and it has columns `id`, `name`, and `email`. The `id` column is an auto-incrementing primary key.\n",
      "\n",
      "Here's how you can write the SQL `INSERT` statement:\n",
      "\n",
      "```sql\n",
      "INSERT INTO users (name, email) VALUES ('Phu Dang', 'pndang@ucsd.edu');\n",
      "```\n",
      "\n",
      "This statement will insert a new row into the `users` table with the specified name and email. Make sure to replace `Phu Dang` and `pndang@ucsd.edu` with the actual name and email address when you execute the statement. If your table has additional columns that require values, you'll need to include those in the `INSERT` statement as well.\n",
      "\n"
     ]
    }
   ],
   "source": [
    "print(f\"Output: {sanitized_res_text}\\n\")"
   ]
  },
  {
   "cell_type": "code",
   "execution_count": 32,
   "metadata": {},
   "outputs": [
    {
     "data": {
      "text/plain": [
       "{'Deanonymize': True, 'NoRefusal': True, 'Relevance': True, 'Sensitive': False}"
      ]
     },
     "execution_count": 32,
     "metadata": {},
     "output_type": "execute_result"
    }
   ],
   "source": [
    "results_valid"
   ]
  },
  {
   "cell_type": "code",
   "execution_count": null,
   "metadata": {},
   "outputs": [],
   "source": []
  }
 ],
 "metadata": {
  "kernelspec": {
   "display_name": "projectone_venv",
   "language": "python",
   "name": "python3"
  },
  "language_info": {
   "codemirror_mode": {
    "name": "ipython",
    "version": 3
   },
   "file_extension": ".py",
   "mimetype": "text/x-python",
   "name": "python",
   "nbconvert_exporter": "python",
   "pygments_lexer": "ipython3",
   "version": "3.9.2"
  }
 },
 "nbformat": 4,
 "nbformat_minor": 2
}
