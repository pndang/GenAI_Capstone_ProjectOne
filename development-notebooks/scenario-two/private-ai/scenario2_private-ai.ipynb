{
 "cells": [
  {
   "cell_type": "markdown",
   "metadata": {},
   "source": [
    "### Scenario 2 - Data Minimization with context-and-utility preserving anonymization\n",
    "\n",
    "Visit [webpage](https://pndang.com/GenAI_Capstone_ProjectOne/) for more details."
   ]
  },
  {
   "cell_type": "markdown",
   "metadata": {},
   "source": [
    "Test prompt: 1 - \n",
    "\"\"\" \n",
    "Please translate the following to Vietnamese: \n",
    "\n",
    "    \"Jessica Parker\n",
    "    Singapore, Singapore\n",
    "\n",
    "    Great Friday morning drinking Beers with the Bastards ;)\n",
    "\n",
    "    Euro games and the full Monty double redbreast whiskey and after wash it down with a cold and crisp Peroni\n",
    "\n",
    "    Enjoying the patio with great company this morning in Ho Chi Minh City.\"\n",
    "\n",
    "    \"\"\""
   ]
  },
  {
   "cell_type": "markdown",
   "metadata": {},
   "source": [
    "#### Private AI's redaction guardrails + Synthetic PII generation engine are up first!"
   ]
  },
  {
   "cell_type": "code",
   "execution_count": 20,
   "metadata": {},
   "outputs": [
    {
     "data": {
      "text/plain": [
       "True"
      ]
     },
     "execution_count": 20,
     "metadata": {},
     "output_type": "execute_result"
    }
   ],
   "source": [
    "from privateai_client import PAIClient\n",
    "from privateai_client import request_objects\n",
    "from openai import OpenAI \n",
    "from dotenv import load_dotenv\n",
    "import os\n",
    "\n",
    "load_dotenv()\n"
   ]
  },
  {
   "cell_type": "code",
   "execution_count": 21,
   "metadata": {},
   "outputs": [],
   "source": [
    "PRIVATEAI_API_KEY = os.getenv(\"PRIVATEAI_API_KEY\")\n",
    "PRIVATEAI_URL = os.getenv(\"PRIVATEAI_URL\")\n",
    "\n",
    "OPENAI_API_KEY = os.getenv(\"OPENAI_API_KEY\")"
   ]
  },
  {
   "cell_type": "code",
   "execution_count": 24,
   "metadata": {},
   "outputs": [],
   "source": [
    "# client config\n",
    "\n",
    "client = PAIClient(url=PRIVATEAI_URL, api_key=PRIVATEAI_API_KEY)"
   ]
  },
  {
   "cell_type": "code",
   "execution_count": 28,
   "metadata": {},
   "outputs": [],
   "source": [
    "# set up entity detection object\n",
    "sample_entity_detection = request_objects.entity_detection_obj(return_entity=True)\n",
    "\n",
    "# define SYNTHETIC PII generation as processor\n",
    "sample_processed_text = request_objects.processed_text_obj(\n",
    "    type=\"SYNTHETIC\",\n",
    "    synthetic_entity_accuracy=\"standard\",\n",
    "    preserve_relationships=True\n",
    ")"
   ]
  },
  {
   "cell_type": "code",
   "execution_count": 31,
   "metadata": {},
   "outputs": [],
   "source": [
    "prompt =  \"\"\" Please translate the following to Vietnamese: \n",
    "\n",
    "\"Jessica Parker\n",
    "Singapore, Singapore\n",
    "\n",
    "Great Friday morning drinking Beers with the Bastards ;)\n",
    "\n",
    "Euro games and the full Monty double redbreast whiskey and after wash it down with a cold and crisp Peroni\n",
    "\n",
    "Enjoying the patio with great company this morning in Ho Chi Minh City.\"\n",
    "\n",
    "\"\"\""
   ]
  },
  {
   "cell_type": "code",
   "execution_count": 33,
   "metadata": {},
   "outputs": [
    {
     "name": "stdout",
     "output_type": "stream",
     "text": [
      " Please translate the following to Filipino: \n",
      "\n",
      "\"Yvonne Ayayada\n",
      "Venezuela, Venezuela\n",
      "\n",
      "Great Friday morning drinking Beers with the Bastards ;)\n",
      "\n",
      "Rosh games and the full Monty double redbreast whiskey and after wash it down with a cold and crisp Peroni\n",
      "\n",
      "Enjoying the patio with great company this morning in La Joa Deer Park.\"\n",
      "\n",
      "\n"
     ]
    }
   ],
   "source": [
    "# process prompt\n",
    "\n",
    "process_text_request = request_objects.process_text_obj(\n",
    "   text=[prompt],\n",
    "   link_batch=False,\n",
    "   entity_detection=sample_entity_detection,\n",
    "   processed_text=sample_processed_text\n",
    ")\n",
    "\n",
    "response = client.process_text(process_text_request)\n",
    "print(response.processed_text[0])"
   ]
  },
  {
   "cell_type": "markdown",
   "metadata": {},
   "source": [
    "___________________________________"
   ]
  },
  {
   "cell_type": "markdown",
   "metadata": {},
   "source": [
    "2 - \"\"\"Please translate the following to Vietnamese:\n",
    "\n",
    "    \"Son Hang-seo\n",
    "    Gyeongsang Nam, South Korea\n",
    "\n",
    "    This is like a beer heaven that no one knows about! If you're tired of all those common commercial beer such as Carlsberg or Heineken and want to look for some rare beers, you should definitely head down to The Beers and Bastards.\n",
    "\n",
    "    The owners are friendly, and will happily tell you which beers go well with what you're eating. If you're feeling adventurous, just pick those devilish looking ones. You won't be disappointed!\"\n",
    "\n",
    "    \"\"\""
   ]
  },
  {
   "cell_type": "code",
   "execution_count": 34,
   "metadata": {},
   "outputs": [],
   "source": [
    "# wrapper function\n",
    "\n",
    "def privateai_synthetic_gen_pipeline(prompt):\n",
    "\n",
    "    # set up entity detection object\n",
    "    sample_entity_detection = request_objects.entity_detection_obj(return_entity=True)\n",
    "\n",
    "    # define SYNTHETIC PII generation as processor\n",
    "    sample_processed_text = request_objects.processed_text_obj(\n",
    "        type=\"SYNTHETIC\",\n",
    "        synthetic_entity_accuracy=\"standard\",\n",
    "        preserve_relationships=True\n",
    "    )\n",
    "\n",
    "    # process prompt\n",
    "    process_text_request = request_objects.process_text_obj(\n",
    "    text=[prompt],\n",
    "    link_batch=False,\n",
    "    entity_detection=sample_entity_detection,\n",
    "    processed_text=sample_processed_text\n",
    "    )\n",
    "\n",
    "    response = client.process_text(process_text_request)\n",
    "    print(response.processed_text[0])\n",
    "\n",
    "    return {\n",
    "        'input prompt': prompt,\n",
    "        'synthetic prompt': response.processed_text[0]\n",
    "    }"
   ]
  },
  {
   "cell_type": "code",
   "execution_count": 35,
   "metadata": {},
   "outputs": [],
   "source": [
    "prompt_2 = \"\"\"Please translate the following to Vietnamese:\n",
    "\n",
    "\"Son Hang-seo\n",
    "Gyeongsang Nam, South Korea\n",
    "\n",
    "This is like a beer heaven that no one knows about! If you're tired of all those common commercial beer such as Carlsberg or Heineken and want to look for some rare beers, you should definitely head down to The Beers and Bastards.\n",
    "\n",
    "The owners are friendly, and will happily tell you which beers go well with what you're eating. If you're feeling adventurous, just pick those devilish looking ones. You won't be disappointed!\"\n",
    "\n",
    "\"\"\""
   ]
  },
  {
   "cell_type": "code",
   "execution_count": 42,
   "metadata": {},
   "outputs": [
    {
     "name": "stdout",
     "output_type": "stream",
     "text": [
      "Please translate the following to Portuguese:\n",
      "\n",
      "\"New York-led\n",
      "New York-led\n",
      "\n",
      "This is like a beer heaven that no one knows about! If you're tired of all those common commercial beer such as Carlsberg or Heineken and want to look for some rare beers, you should definitely head down to Pet Management and Wildlife.\n",
      "\n",
      "The breeder are friendly, and will happily tell you which beers go well with what you're eating. If you're feeling adventurous, just pick those devilish looking ones. You won't be disappointed!\"\n",
      "\n",
      "\n"
     ]
    }
   ],
   "source": [
    "prompt2_output = privateai_synthetic_gen_pipeline(prompt_2)"
   ]
  },
  {
   "cell_type": "code",
   "execution_count": 43,
   "metadata": {},
   "outputs": [
    {
     "name": "stdout",
     "output_type": "stream",
     "text": [
      "input prompt:\n",
      "Please translate the following to Vietnamese:\n",
      "\n",
      "\"Son Hang-seo\n",
      "Gyeongsang Nam, South Korea\n",
      "\n",
      "This is like a beer heaven that no one knows about! If you're tired of all those common commercial beer such as Carlsberg or Heineken and want to look for some rare beers, you should definitely head down to The Beers and Bastards.\n",
      "\n",
      "The owners are friendly, and will happily tell you which beers go well with what you're eating. If you're feeling adventurous, just pick those devilish looking ones. You won't be disappointed!\"\n",
      "\n",
      "\n",
      "synthetic prompt:\n",
      "Please translate the following to Portuguese:\n",
      "\n",
      "\"New York-led\n",
      "New York-led\n",
      "\n",
      "This is like a beer heaven that no one knows about! If you're tired of all those common commercial beer such as Carlsberg or Heineken and want to look for some rare beers, you should definitely head down to Pet Management and Wildlife.\n",
      "\n",
      "The breeder are friendly, and will happily tell you which beers go well with what you're eating. If you're feeling adventurous, just pick those devilish looking ones. You won't be disappointed!\"\n",
      "\n",
      "\n",
      "\n"
     ]
    }
   ],
   "source": [
    "# inspect prompt2 outputs\n",
    "\n",
    "print(f\"input prompt:\\n{prompt2_output['input prompt']}\")\n",
    "print(f\"synthetic prompt:\\n{prompt2_output['synthetic prompt']}\\n\")"
   ]
  },
  {
   "cell_type": "markdown",
   "metadata": {},
   "source": [
    "___________________________________"
   ]
  },
  {
   "cell_type": "markdown",
   "metadata": {},
   "source": [
    "Prompt 3 - \"\"\" Please translate the following to Vietnamese:\n",
    "\n",
    "    \"Hi Circuit app\n",
    "\n",
    "    Help me lay out the most time-efficient itinerary to visit all the properties below in 2 weeks starting from Ho Chi Minh City.\n",
    "\n",
    "    458 P. Minh Khai, Times City, Hai Bà Trưng, Hà Nội, Vietnam\n",
    "    4 Chome-2-8 Shibakoen, Minato City, Tokyo 105-0011, Japan\n",
    "    40, 5 Chanajaroen Road, Tambon Talat Yai, Amphur Muang, Phuket 83000, Thailand\n",
    "    Jl. Pratama No.70, Tj. Benoa, Kec. Kuta Sel., Kabupaten Badung, Bali 80361, Indonesia\n",
    "    238 Eulji-ro, Jung District, Seoul, South Korea\"\n",
    "\n",
    "    \"\"\""
   ]
  },
  {
   "cell_type": "code",
   "execution_count": 44,
   "metadata": {},
   "outputs": [],
   "source": [
    "prompt_3 = \"\"\" Please translate the following to Vietnamese:\n",
    "\n",
    "\"Hi Circuit app\n",
    "\n",
    "Help me lay out the most time-efficient itinerary to visit all the properties below in 2 weeks starting from Ho Chi Minh City.\n",
    "\n",
    "458 P. Minh Khai, Times City, Hai Bà Trưng, Hà Nội, Vietnam\n",
    "4 Chome-2-8 Shibakoen, Minato City, Tokyo 105-0011, Japan\n",
    "40, 5 Chanajaroen Road, Tambon Talat Yai, Amphur Muang, Phuket 83000, Thailand\n",
    "Jl. Pratama No.70, Tj. Benoa, Kec. Kuta Sel., Kabupaten Badung, Bali 80361, Indonesia\n",
    "238 Eulji-ro, Jung District, Seoul, South Korea\"\n",
    "\n",
    "\"\"\""
   ]
  },
  {
   "cell_type": "code",
   "execution_count": 50,
   "metadata": {},
   "outputs": [
    {
     "name": "stdout",
     "output_type": "stream",
     "text": [
      " Please translate the following to Portuguese:\n",
      "\n",
      "\"Hi Circuit app\n",
      "\n",
      "Help me lay out the most time-efficient itinerary to visit all the properties below in 2 hours starting from Le New York City.\n",
      "\n",
      "930 S. Main Road, Grand Prix, La Xi Tango, TeXu, Punjab\n",
      "930 S. Main Road, Grand Prix, La Xi Tango, TeXu, Punjab\n",
      "930 S. Main Road, Grand Prix, La Xi Tango, TeXu, Punjab\n",
      "930 S. Main Road, Grand Prix, La Xi Tango, TeXu, Punjab\n",
      "930 S. Main Road, Grand Prix, La Xi Tango, TeXu, Punjab\"\n",
      "\n",
      "\n"
     ]
    }
   ],
   "source": [
    "prompt3_output = privateai_synthetic_gen_pipeline(prompt_3)"
   ]
  },
  {
   "cell_type": "code",
   "execution_count": null,
   "metadata": {},
   "outputs": [],
   "source": []
  }
 ],
 "metadata": {
  "kernelspec": {
   "display_name": "Python (privateai-venv)",
   "language": "python",
   "name": "privateai-venv"
  },
  "language_info": {
   "codemirror_mode": {
    "name": "ipython",
    "version": 3
   },
   "file_extension": ".py",
   "mimetype": "text/x-python",
   "name": "python",
   "nbconvert_exporter": "python",
   "pygments_lexer": "ipython3",
   "version": "3.10.0"
  }
 },
 "nbformat": 4,
 "nbformat_minor": 2
}
