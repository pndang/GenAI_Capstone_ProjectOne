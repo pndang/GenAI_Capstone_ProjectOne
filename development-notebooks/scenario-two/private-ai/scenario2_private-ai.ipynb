{
 "cells": [
  {
   "cell_type": "markdown",
   "metadata": {},
   "source": [
    "### Scenario 2 - Data Minimization with context-and-utility preserving anonymization\n",
    "\n",
    "Visit [webpage](https://pndang.com/GenAI_Capstone_ProjectOne/) for more details."
   ]
  },
  {
   "cell_type": "markdown",
   "metadata": {},
   "source": [
    "Test prompt: 1 - \n",
    "\"\"\" \n",
    "Please translate the following to Vietnamese: \n",
    "\n",
    "    \"Jessica Parker\n",
    "    Singapore, Singapore\n",
    "\n",
    "    Great Friday morning drinking Beers with the Bastards ;)\n",
    "\n",
    "    Euro games and the full Monty double redbreast whiskey and after wash it down with a cold and crisp Peroni\n",
    "\n",
    "    Enjoying the patio with great company this morning in Ho Chi Minh City.\"\n",
    "\n",
    "    \"\"\""
   ]
  },
  {
   "cell_type": "markdown",
   "metadata": {},
   "source": [
    "#### Private AI's redaction guardrails + Synthetic PII generation engine are up first!"
   ]
  },
  {
   "cell_type": "code",
   "execution_count": 20,
   "metadata": {},
   "outputs": [
    {
     "data": {
      "text/plain": [
       "True"
      ]
     },
     "execution_count": 20,
     "metadata": {},
     "output_type": "execute_result"
    }
   ],
   "source": [
    "from privateai_client import PAIClient\n",
    "from privateai_client import request_objects\n",
    "from openai import OpenAI \n",
    "from dotenv import load_dotenv\n",
    "import os\n",
    "\n",
    "load_dotenv()\n"
   ]
  },
  {
   "cell_type": "code",
   "execution_count": 21,
   "metadata": {},
   "outputs": [],
   "source": [
    "PRIVATEAI_API_KEY = os.getenv(\"PRIVATEAI_API_KEY\")\n",
    "PRIVATEAI_URL = os.getenv(\"PRIVATEAI_URL\")\n",
    "\n",
    "OPENAI_API_KEY = os.getenv(\"OPENAI_API_KEY\")"
   ]
  },
  {
   "cell_type": "code",
   "execution_count": 24,
   "metadata": {},
   "outputs": [],
   "source": [
    "# client config\n",
    "\n",
    "client = PAIClient(url=PRIVATEAI_URL, api_key=PRIVATEAI_API_KEY)"
   ]
  },
  {
   "cell_type": "code",
   "execution_count": 28,
   "metadata": {},
   "outputs": [],
   "source": [
    "# set up entity detection object\n",
    "sample_entity_detection = request_objects.entity_detection_obj(return_entity=True)\n",
    "\n",
    "# define SYNTHETIC PII generation as processor\n",
    "sample_processed_text = request_objects.processed_text_obj(\n",
    "    type=\"SYNTHETIC\",\n",
    "    synthetic_entity_accuracy=\"standard\",\n",
    "    preserve_relationships=True\n",
    ")"
   ]
  },
  {
   "cell_type": "code",
   "execution_count": 29,
   "metadata": {},
   "outputs": [
    {
     "ename": "NameError",
     "evalue": "name 'prompt' is not defined",
     "output_type": "error",
     "traceback": [
      "\u001b[1;31m---------------------------------------------------------------------------\u001b[0m",
      "\u001b[1;31mNameError\u001b[0m                                 Traceback (most recent call last)",
      "Cell \u001b[1;32mIn[29], line 4\u001b[0m\n\u001b[0;32m      1\u001b[0m \u001b[38;5;66;03m# process prompt\u001b[39;00m\n\u001b[0;32m      3\u001b[0m process_text_request \u001b[38;5;241m=\u001b[39m request_objects\u001b[38;5;241m.\u001b[39mprocess_text_obj(\n\u001b[1;32m----> 4\u001b[0m    text\u001b[38;5;241m=\u001b[39m[\u001b[43mprompt\u001b[49m],\n\u001b[0;32m      5\u001b[0m    link_batch\u001b[38;5;241m=\u001b[39m\u001b[38;5;28;01mFalse\u001b[39;00m,\n\u001b[0;32m      6\u001b[0m    entity_detection\u001b[38;5;241m=\u001b[39msample_entity_detection,\n\u001b[0;32m      7\u001b[0m    processed_text\u001b[38;5;241m=\u001b[39msample_processed_text\n\u001b[0;32m      8\u001b[0m )\n\u001b[0;32m     10\u001b[0m response \u001b[38;5;241m=\u001b[39m client\u001b[38;5;241m.\u001b[39mprocess_text(process_text_request)\n\u001b[0;32m     11\u001b[0m \u001b[38;5;28mprint\u001b[39m(response\u001b[38;5;241m.\u001b[39mprocessed_text)\n",
      "\u001b[1;31mNameError\u001b[0m: name 'prompt' is not defined"
     ]
    }
   ],
   "source": [
    "# process prompt\n",
    "\n",
    "process_text_request = request_objects.process_text_obj(\n",
    "   text=[prompt],\n",
    "   link_batch=False,\n",
    "   entity_detection=sample_entity_detection,\n",
    "   processed_text=sample_processed_text\n",
    ")\n",
    "\n",
    "response = client.process_text(process_text_request)\n",
    "print(response.processed_text)"
   ]
  },
  {
   "cell_type": "code",
   "execution_count": null,
   "metadata": {},
   "outputs": [],
   "source": []
  }
 ],
 "metadata": {
  "kernelspec": {
   "display_name": "Python (privateai-venv)",
   "language": "python",
   "name": "privateai-venv"
  },
  "language_info": {
   "codemirror_mode": {
    "name": "ipython",
    "version": 3
   },
   "file_extension": ".py",
   "mimetype": "text/x-python",
   "name": "python",
   "nbconvert_exporter": "python",
   "pygments_lexer": "ipython3",
   "version": "3.10.0"
  }
 },
 "nbformat": 4,
 "nbformat_minor": 2
}
