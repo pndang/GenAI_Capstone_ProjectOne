{
 "cells": [
  {
   "cell_type": "markdown",
   "metadata": {},
   "source": [
    "### Scenario 1 - Data (De)anonymization for enhanced privacy\n",
    "\n",
    "Visit [webpage](https://pndang.com/GenAI_Capstone_ProjectOne/) for more details."
   ]
  },
  {
   "cell_type": "markdown",
   "metadata": {},
   "source": [
    "Test prompt: 1 - \n",
    "\"\"\" \n",
    "    Please translate the following to Vietnamese: \n",
    "\n",
    "    \"Hi Robert! Please see below for your requested info\n",
    "\n",
    "    full name: Phu Dang\n",
    "    SSN: 123-45-6789\n",
    "    email: pndang@ucsd.edu\n",
    "    birthday: 04/11/2003, so I am 21 years old\n",
    "    What's your nationality? I am a Vietnamese citizen\n",
    "    What's your credit score? 775 FICO\n",
    "    What's the loan amount requested? $1,000,000\n",
    "    What's the loan purpose? Invest $500,000 in Sustana Cooling Partners as working capital and cash out the rest for my hi-performing restaurant business (Beers & Bastards, LLC). \n",
    "\n",
    "    Please ping me the best terms you could offer. Thanks!\" \n",
    "\n",
    "\"\"\""
   ]
  },
  {
   "cell_type": "markdown",
   "metadata": {},
   "source": [
    "#### Private AI is up next!"
   ]
  },
  {
   "cell_type": "code",
   "execution_count": 2,
   "metadata": {},
   "outputs": [
    {
     "data": {
      "text/plain": [
       "True"
      ]
     },
     "execution_count": 2,
     "metadata": {},
     "output_type": "execute_result"
    }
   ],
   "source": [
    "from privateai_client import PAIClient\n",
    "from privateai_client import request_objects\n",
    "from openai import OpenAI \n",
    "from dotenv import load_dotenv\n",
    "import os\n",
    "\n",
    "load_dotenv()\n"
   ]
  },
  {
   "cell_type": "code",
   "execution_count": 3,
   "metadata": {},
   "outputs": [],
   "source": [
    "# Set up configurations\n",
    "\n",
    "PRIVATEAI_API_KEY = os.getenv(\"PRIVATEAI_API_KEY\")\n",
    "PRIVATEAI_URL = os.getenv(\"PRIVATEAI_URL\")\n",
    "\n",
    "OPENAI_API_KEY = os.getenv(\"OPENAI_API_KEY\")\n",
    "\n",
    "openai_client = OpenAI(api_key=OPENAI_API_KEY)"
   ]
  },
  {
   "cell_type": "code",
   "execution_count": 4,
   "metadata": {},
   "outputs": [],
   "source": [
    "prompt = \"\"\"\n",
    "    Hi Robert! Please see below for your requested info\n",
    "\n",
    "    full name: Phu Dang\n",
    "    SSN: 123-45-6789\n",
    "    email: pndang@ucsd.edu\n",
    "    birthday: 04/11/2003, so I am 21 years old\n",
    "    What's your nationality? I am a Vietnamese citizen\n",
    "    What's your credit score? 775 FICO\n",
    "    What's the loan amount requested? $1,000,000\n",
    "    What's the loan purpose? Invest $500,000 in Sustana Cooling Partners as working capital and cash out the rest for my hi-performing restaurant business (Beers & Bastards, LLC). \n",
    "\n",
    "    Please ping me the best terms you could offer. Thanks!\"\n",
    "    \"\"\""
   ]
  },
  {
   "cell_type": "code",
   "execution_count": 5,
   "metadata": {},
   "outputs": [
    {
     "name": "stdout",
     "output_type": "stream",
     "text": [
      "\n",
      "    Hi Robert! Please see below for your requested info\n",
      "\n",
      "    full name: Phu Dang\n",
      "    SSN: 123-45-6789\n",
      "    email: pndang@ucsd.edu\n",
      "    birthday: 04/11/2003, so I am 21 years old\n",
      "    What's your nationality? I am a Vietnamese citizen\n",
      "    What's your credit score? 775 FICO\n",
      "    What's the loan amount requested? $1,000,000\n",
      "    What's the loan purpose? Invest $500,000 in Sustana Cooling Partners as working capital and cash out the rest for my hi-performing restaurant business (Beers & Bastards, LLC). \n",
      "\n",
      "    Please ping me the best terms you could offer. Thanks!\"\n",
      "    \n",
      "\n",
      "\n",
      "    Hi [NAME_GIVEN_1]! Please see below for your requested info\n",
      "\n",
      "    full name: [NAME_1]\n",
      "    SSN: [SSN_1]\n",
      "    email: [EMAIL_ADDRESS_1]\n",
      "    birthday: [DOB_1], so I am [AGE_1] years old\n",
      "    What's your nationality? I am a [ORIGIN_1] citizen\n",
      "    What's your credit score? [NUMERICAL_PII_1] [ORGANIZATION_1]\n",
      "    What's the loan amount requested? [MONEY_1]\n",
      "    What's the loan purpose? Invest [MONEY_2] in [ORGANIZATION_2] as working capital and cash out the rest for my hi-performing restaurant business ([ORGANIZATION_3]). \n",
      "\n",
      "    Please ping me the best terms you could offer. Thanks!\"\n",
      "    \n"
     ]
    }
   ],
   "source": [
    "# quick demo\n",
    "\n",
    "client = PAIClient(url=\"https://api.private-ai.com/community\", api_key=PRIVATEAI_API_KEY)\n",
    "text_request = request_objects.process_text_obj(text=[prompt])\n",
    "response = client.process_text(text_request)\n",
    "                    \n",
    "print(text_request.text[0])\n",
    "print()\n",
    "print(response.processed_text[0])"
   ]
  },
  {
   "cell_type": "code",
   "execution_count": 6,
   "metadata": {},
   "outputs": [],
   "source": [
    "# build local entities map \n",
    "completions = {}\n",
    "\n",
    "completions[\"raw_text\"] = prompt\n",
    "redaction_request_obj = request_objects.process_text_obj(text=[prompt])\n",
    "redaction_response_obj = client.process_text(redaction_request_obj)\n",
    "\n",
    "# store redactions\n",
    "deidentified_text = redaction_response_obj.processed_text[0]\n",
    "completions[\"redacted_text\"] = deidentified_text\n",
    "entity_list = redaction_response_obj.get_reidentify_entities()"
   ]
  },
  {
   "cell_type": "code",
   "execution_count": null,
   "metadata": {},
   "outputs": [
    {
     "name": "stdout",
     "output_type": "stream",
     "text": [
      "Xin chào [NAME_GIVEN_1]! Dưới đây là thông tin bạn yêu cầu:\n",
      "\n",
      "Họ và tên: [NAME_1]\n",
      "Số SSN: [SSN_1]\n",
      "Email: [EMAIL_ADDRESS_1]\n",
      "Ngày sinh: [DOB_1], vì vậy tôi [AGE_1] tuổi\n",
      "Quốc tịch của bạn là gì? Tôi là công dân của [ORIGIN_1]\n",
      "Điểm tín dụng của bạn là bao nhiêu? [NUMERICAL_PII_1] [ORGANIZATION_1]\n",
      "Số tiền vay yêu cầu là bao nhiêu? [MONEY_1]\n",
      "Mục đích vay tiền là gì? Đầu tư [MONEY_2] vào [ORGANIZATION_2] làm vốn lưu động và rút tiền mặt phần còn lại cho doanh nghiệp nhà hàng hiệu suất cao của tôi ([ORGANIZATION_3]).\n",
      "\n",
      "Vui lòng ping tôi với các điều khoản tốt nhất bạn có thể cung cấp. Cảm ơn!\"\n"
     ]
    }
   ],
   "source": [
    "# send redacted prompt to LLM \n",
    "GPT_MODEL = 'gpt-4'\n",
    "\n",
    "res = OpenAI().chat.cosystem', 'content': 'You are a helpful English-Vietnamese translation assistant.'},\n",
    "        {'role': 'user', 'content': deidentified_text}\n",
    "    ]\n",
    ")\n",
    "\n",
    "res_text = res.choices[0].message.content\n",
    "completions['redacted'] = res_text\n",
    "print(res_text)"
   ]
  },
  {
   "cell_type": "code",
   "execution_count": 8,
   "metadata": {},
   "outputs": [],
   "source": [
    "# re-identify the anonymous LLM response\n",
    "\n",
    "reidentification_request_obj = request_objects.reidentify_text_obj(\n",
    "    processed_text=[completions[\"redacted\"]], entities=entity_list)\n",
    "\n",
    "reidentification_response_obj = client.reidentify_text(\n",
    "    reidentification_request_obj)\n",
    "\n",
    "completions[\"reidentified\"] = reidentification_response_obj.body[0]"
   ]
  },
  {
   "cell_type": "code",
   "execution_count": 9,
   "metadata": {},
   "outputs": [
    {
     "name": "stdout",
     "output_type": "stream",
     "text": [
      "Xin chào Robert! Dưới đây là thông tin bạn yêu cầu:\n",
      "\n",
      "Họ và tên: Phu Dang\n",
      "Số SSN: 123-45-6789\n",
      "Email: pndang@ucsd.edu\n",
      "Ngày sinh: 04/11/2003, vì vậy tôi 21 tuổi\n",
      "Quốc tịch của bạn là gì? Tôi là công dân của Vietnamese\n",
      "Điểm tín dụng của bạn là bao nhiêu? 775 FICO\n",
      "Số tiền vay yêu cầu là bao nhiêu? $1,000,000\n",
      "Mục đích vay tiền là gì? Đầu tư $500,000 vào Sustana Cooling Partners làm vốn lưu động và rút tiền mặt phần còn lại cho doanh nghiệp nhà hàng hiệu suất cao của tôi (Beers & Bastards, LLC).\n",
      "\n",
      "Vui lòng ping tôi với các điều khoản tốt nhất bạn có thể cung cấp. Cảm ơn!\"\n"
     ]
    }
   ],
   "source": [
    "# voila\n",
    "\n",
    "print(completions['reidentified'])"
   ]
  },
  {
   "cell_type": "markdown",
   "metadata": {},
   "source": [
    "_________________________"
   ]
  },
  {
   "cell_type": "markdown",
   "metadata": {},
   "source": [
    "Test prompt: 2 - \n",
    "\n",
    "\"\"\"\n",
    "    Please translate the following to Vietnamese:\n",
    "\n",
    "    \"Dear Vietcombank, please help me deactivate the following credit card I lost:\n",
    "\n",
    "    card #: 1234 5678 9101 1121\n",
    "    card name: Phu Dang\n",
    "    security code: 555\n",
    "\n",
    "    please call me back at 669-274-8956 to confirm. Thanks\"\n",
    "\n",
    "\"\"\""
   ]
  },
  {
   "cell_type": "code",
   "execution_count": 16,
   "metadata": {},
   "outputs": [],
   "source": [
    "# wrapper function\n",
    "\n",
    "def private_ai_pipeline(prompt):\n",
    "\n",
    "    # build local entities map \n",
    "    completions = {}\n",
    "\n",
    "    completions[\"raw_text\"] = prompt\n",
    "    redaction_request_obj = request_objects.process_text_obj(text=[prompt])\n",
    "    redaction_response_obj = client.process_text(redaction_request_obj)\n",
    "\n",
    "    # store redactions\n",
    "    deidentified_text = redaction_response_obj.processed_text[0]\n",
    "    completions[\"redacted_text\"] = deidentified_text\n",
    "    entity_list = redaction_response_obj.get_reidentify_entities()\n",
    "\n",
    "    print(deidentified_text)\n",
    "\n",
    "    # send redacted prompt to LLM \n",
    "    GPT_MODEL = 'gpt-4'\n",
    "    res = OpenAI().chat.completions.create(\n",
    "        model=GPT_MODEL,\n",
    "        messages=[\n",
    "            {'role': 'system', 'content': 'You are a helpful English-Vietnamese translation assistant.'},\n",
    "            {'role': 'user', 'content': deidentified_text}\n",
    "        ]\n",
    "    )\n",
    "\n",
    "    res_text = res.choices[0].message.content\n",
    "    completions['redacted'] = res_text\n",
    "    print(res_text+'\\n')\n",
    "\n",
    "    # re-identify the anonymous LLM response\n",
    "\n",
    "    reidentification_request_obj = request_objects.reidentify_text_obj(\n",
    "        processed_text=[completions[\"redacted\"]], entities=entity_list)\n",
    "\n",
    "    reidentification_response_obj = client.reidentify_text(\n",
    "        reidentification_request_obj)\n",
    "\n",
    "    completions[\"reidentified\"] = reidentification_response_obj.body[0]\n",
    "\n",
    "    print(completions['reidentified'])\n",
    "\n",
    "    return {\n",
    "        \"redacted prompt\": deidentified_text, \n",
    "        \"llm output\": res_text, \n",
    "        \"re-identified\": completions['reidentified']\n",
    "    }"
   ]
  },
  {
   "cell_type": "code",
   "execution_count": 17,
   "metadata": {},
   "outputs": [],
   "source": [
    "prompt_2 = \"\"\"Please translate the following to Vietnamese: \n",
    "\n",
    "    \"Dear Vietcombank, please help me deactivate the following credit card I lost:\n",
    "\n",
    "    card #: 1234 5678 9101 1121\n",
    "    card name: Phu Dang\n",
    "    security code: 555\n",
    "\n",
    "    please call me back at 669-274-8956 to confirm. Thanks\" \n",
    "    \n",
    "    \"\"\""
   ]
  },
  {
   "cell_type": "code",
   "execution_count": 18,
   "metadata": {},
   "outputs": [
    {
     "name": "stdout",
     "output_type": "stream",
     "text": [
      "Please translate the following to [LANGUAGE_1]: \n",
      "\n",
      "    \"Dear [ORGANIZATION_1], please help me deactivate the following credit card I lost:\n",
      "\n",
      "    card #: [CREDIT_CARD_1]\n",
      "    card name: [NAME_1]\n",
      "    security code: [CVV_1]\n",
      "\n",
      "    please call me back at [PHONE_NUMBER_1] to confirm. Thanks\" \n",
      "    \n",
      "    \n",
      "\"Kính thưa [ORGANIZATION_1], xin hãy giúp tôi hủy bỏ chiếc thẻ tín dụng sau đây mà tôi đã mất:\n",
      "\n",
      "    số thẻ: [CREDIT_CARD_1]\n",
      "    tên trên thẻ: [NAME_1]\n",
      "    mã bảo mật: [CVV_1]\n",
      "\n",
      "    xin hãy gọi lại cho tôi qua số [PHONE_NUMBER_1] để xác nhận. Cảm ơn\"\n",
      "\n",
      "\"Kính thưa Vietcombank, xin hãy giúp tôi hủy bỏ chiếc thẻ tín dụng sau đây mà tôi đã mất:\n",
      "\n",
      "    số thẻ: 1234 5678 9101 1121\n",
      "    tên trên thẻ: Phu Dang\n",
      "    mã bảo mật: 555\n",
      "\n",
      "    xin hãy gọi lại cho tôi qua số 669-274-8956 để xác nhận. Cảm ơn\"\n"
     ]
    }
   ],
   "source": [
    "prompt2_output = private_ai_pipeline(prompt_2)"
   ]
  },
  {
   "cell_type": "markdown",
   "metadata": {},
   "source": [
    "__________________"
   ]
  },
  {
   "cell_type": "markdown",
   "metadata": {},
   "source": [
    "Prompt 3 - \"\"\"\n",
    "\n",
    "    Please translate the following letter of intent to English:\n",
    "\n",
    "    \"Kính gửi Jeff,\n",
    "\n",
    "    Công ty Triton Capital Partners (TCP), LLC, trân trọng bày tỏ mong muốn và ý định mua lại tài sản Framework Apartments tại 805 13th St, San Diego, CA 92101 với mức giá đề xuất là 200 triệu đô la Mỹ (USD 200,000,000), tùy thuộc vào các điều khoản và điều kiện cụ thể được nêu trong quá trình thương lượng và ký kết hợp đồng mua bán chính thức.\n",
    "\n",
    "    Đại diện từ TCP sẽ liên hệ về các điều khoản giao dịch chi tiết sau. Chúng tôi mong muốn có cơ hội hợp tác với Quý vị trong giao dịch này. \n",
    "\n",
    "    Trân trọng,\n",
    "    Triton Capital Partners, LLC\"\n",
    "\n",
    "\"\"\""
   ]
  },
  {
   "cell_type": "code",
   "execution_count": 19,
   "metadata": {},
   "outputs": [],
   "source": [
    "prompt_3 = \"\"\"Please translate the following letter of intent to English:\n",
    "\n",
    "    \"Kính gửi Jeff,\n",
    "\n",
    "    Công ty Triton Capital Partners (TCP), LLC, trân trọng bày tỏ mong muốn và ý định mua lại tài sản Framework Apartments tại 805 13th St, San Diego, CA 92101 với mức giá đề xuất là 200 triệu đô la Mỹ (USD 200,000,000), tùy thuộc vào các điều khoản và điều kiện cụ thể được nêu trong quá trình thương lượng và ký kết hợp đồng mua bán chính thức.\n",
    "\n",
    "    Đại diện từ TCP sẽ liên hệ về các điều khoản giao dịch chi tiết sau. Chúng tôi mong muốn có cơ hội hợp tác với Quý vị trong giao dịch này. \n",
    "\n",
    "    Trân trọng,\n",
    "    Triton Capital Partners, LLC\"\n",
    "\n",
    "\"\"\""
   ]
  },
  {
   "cell_type": "code",
   "execution_count": 20,
   "metadata": {},
   "outputs": [
    {
     "name": "stdout",
     "output_type": "stream",
     "text": [
      "Please translate the following letter of intent to [LANGUAGE_1]:\n",
      "\n",
      "    \"Kính gửi [NAME_GIVEN_1],\n",
      "\n",
      "    Công ty [ORGANIZATION_1], trân trọng bày tỏ mong muốn và ý định mua lại tài sản [LOCATION_ADDRESS_STREET_1] tại [LOCATION_ADDRESS_1] với mức giá đề xuất là [MONEY_1] ([MONEY_2]), tùy thuộc vào các điều khoản và điều kiện cụ thể được nêu trong quá trình thương lượng và ký kết hợp đồng mua bán chính thức.\n",
      "\n",
      "    Đại diện từ [ORGANIZATION_2] sẽ liên hệ về các điều khoản giao dịch chi tiết sau. Chúng tôi mong muốn có cơ hội hợp tác với Quý vị trong giao dịch này. \n",
      "\n",
      "    Trân trọng,\n",
      "    [ORGANIZATION_3]\"\n",
      "\n",
      "\n",
      "\"Dear [NAME_GIVEN_1],\n",
      "\n",
      "Công ty [ORGANIZATION_1] respectfully expresses its desire and intention to acquire the property at [LOCATION_ADDRESS_STREET_1] in [LOCATION_ADDRESS_1] with a proposed price of [MONEY_1] ([MONEY_2]), depending on the specific terms and conditions stated in the negotiation and contract signing process.\n",
      "\n",
      "A representative from [ORGANIZATION_2] will contact you regarding detailed transaction terms later. We look forward to the opportunity to work with you on this transaction.\n",
      "\n",
      "Best regards,\n",
      "[ORGANIZATION_3]\"\n",
      "\n",
      "\"Dear Jeff,\n",
      "\n",
      "Công ty Triton Capital Partners (TCP), LLC respectfully expresses its desire and intention to acquire the property at Framework Apartments in 805 13th St, San Diego, CA 92101 with a proposed price of 200 triệu đô la Mỹ (USD 200,000,000), depending on the specific terms and conditions stated in the negotiation and contract signing process.\n",
      "\n",
      "A representative from TCP will contact you regarding detailed transaction terms later. We look forward to the opportunity to work with you on this transaction.\n",
      "\n",
      "Best regards,\n",
      "Triton Capital Partners, LLC\"\n"
     ]
    }
   ],
   "source": [
    "prompt3_output = private_ai_pipeline(prompt_3)"
   ]
  },
  {
   "cell_type": "code",
   "execution_count": 23,
   "metadata": {},
   "outputs": [
    {
     "name": "stdout",
     "output_type": "stream",
     "text": [
      "anonymized prompt:\n",
      "Please translate the following letter of intent to [LANGUAGE_1]:\n",
      "\n",
      "    \"Kính gửi [NAME_GIVEN_1],\n",
      "\n",
      "    Công ty [ORGANIZATION_1], trân trọng bày tỏ mong muốn và ý định mua lại tài sản [LOCATION_ADDRESS_STREET_1] tại [LOCATION_ADDRESS_1] với mức giá đề xuất là [MONEY_1] ([MONEY_2]), tùy thuộc vào các điều khoản và điều kiện cụ thể được nêu trong quá trình thương lượng và ký kết hợp đồng mua bán chính thức.\n",
      "\n",
      "    Đại diện từ [ORGANIZATION_2] sẽ liên hệ về các điều khoản giao dịch chi tiết sau. Chúng tôi mong muốn có cơ hội hợp tác với Quý vị trong giao dịch này. \n",
      "\n",
      "    Trân trọng,\n",
      "    [ORGANIZATION_3]\"\n",
      "\n",
      "\n",
      "anonymized llm response:\n",
      "\"Dear [NAME_GIVEN_1],\n",
      "\n",
      "Công ty [ORGANIZATION_1] respectfully expresses its desire and intention to acquire the property at [LOCATION_ADDRESS_STREET_1] in [LOCATION_ADDRESS_1] with a proposed price of [MONEY_1] ([MONEY_2]), depending on the specific terms and conditions stated in the negotiation and contract signing process.\n",
      "\n",
      "A representative from [ORGANIZATION_2] will contact you regarding detailed transaction terms later. We look forward to the opportunity to work with you on this transaction.\n",
      "\n",
      "Best regards,\n",
      "[ORGANIZATION_3]\"\n",
      "\n",
      "re-identified response:\n",
      "\"Dear Jeff,\n",
      "\n",
      "Công ty Triton Capital Partners (TCP), LLC respectfully expresses its desire and intention to acquire the property at Framework Apartments in 805 13th St, San Diego, CA 92101 with a proposed price of 200 triệu đô la Mỹ (USD 200,000,000), depending on the specific terms and conditions stated in the negotiation and contract signing process.\n",
      "\n",
      "A representative from TCP will contact you regarding detailed transaction terms later. We look forward to the opportunity to work with you on this transaction.\n",
      "\n",
      "Best regards,\n",
      "Triton Capital Partners, LLC\"\n",
      "\n"
     ]
    }
   ],
   "source": [
    "print(f\"anonymized prompt:\\n{prompt3_output['redacted prompt']}\")\n",
    "print(f\"anonymized llm response:\\n{prompt3_output['llm output']}\\n\")\n",
    "print(f\"re-identified response:\\n{prompt3_output['re-identified']}\\n\")"
   ]
  },
  {
   "cell_type": "code",
   "execution_count": null,
   "metadata": {},
   "outputs": [],
   "source": []
  }
 ],
 "metadata": {
  "kernelspec": {
   "display_name": "Python (privateai-venv)",
   "language": "python",
   "name": "privateai-venv"
  },
  "language_info": {
   "codemirror_mode": {
    "name": "ipython",
    "version": 3
   },
   "file_extension": ".py",
   "mimetype": "text/x-python",
   "name": "python",
   "nbconvert_exporter": "python",
   "pygments_lexer": "ipython3",
   "version": "3.10.0"
  }
 },
 "nbformat": 4,
 "nbformat_minor": 2
}
