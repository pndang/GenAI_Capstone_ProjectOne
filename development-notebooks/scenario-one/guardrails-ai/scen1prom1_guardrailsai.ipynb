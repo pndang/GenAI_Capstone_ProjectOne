{
 "cells": [
  {
   "cell_type": "markdown",
   "metadata": {},
   "source": [
    "### Scenario 1, Prompt 1 - Data (De)anonymization for enhanced privacy\n",
    "\n",
    "Visit [webpage](https://pndang.com/GenAI_Capstone_ProjectOne/) for more details.\n",
    "\n",
    "Test prompt: 1 - \n",
    "\"\"\" \n",
    "    Please translate the following to Vietnamese: \n",
    "\n",
    "    \"Hi Robert! Please see below for your requested info\n",
    "\n",
    "    full name: Phu Dang\n",
    "    SSN: 123-45-1119\n",
    "    email: pndang@ucsd.edu\n",
    "    birthday: 04/11/2003, so I am 21 years old\n",
    "    What's your nationality? I am a Vietnamese citizen\n",
    "    What's your credit score? 775 FICO\n",
    "    What's the loan amount requested? $1,000,000\n",
    "    What's the loan purpose? Invest $500,000 in Sustana Cooling Partners as working capital and cash out the rest for my hi-performing restaurant business (Beers & Bastards, LLC). \n",
    "\n",
    "    Please ping me the best terms you could offer. Thanks!\" \n",
    "\n",
    "\"\"\"\n",
    "\n",
    "Environment recommendations to reproduce results:\n",
    "- Start with an empty python or conda environment\n",
    "- Run the following command lines:\n",
    "    - pip install guardrails-ai presidio-analyzer presidio-anonymizer nltk ipykernel -q\n",
    "    - python -m spacy download en_core_web_lg -q\n",
    "    - guardrails hub install hub://guardrails/detect_pii --quiet"
   ]
  },
  {
   "cell_type": "markdown",
   "metadata": {},
   "source": [
    "#### Guardrails AI is up next!"
   ]
  },
  {
   "cell_type": "code",
   "execution_count": 4,
   "metadata": {},
   "outputs": [],
   "source": [
    "from openai import OpenAI\n",
    "from dotenv import load_dotenv\n",
    "import os\n",
    "import re\n",
    "import time\n",
    "\n",
    "from presidio_analyzer import AnalyzerEngine\n",
    "from presidio_anonymizer import AnonymizerEngine\n",
    "\n",
    "# from guardrails import Guard, install\n",
    "import guardrails as gd\n",
    "try:\n",
    "    from guardrails.hub import DetectPII\n",
    "except ImportError:\n",
    "    install(\"hub://guardrails/detect_pii\")\n",
    "    from guardrails.hub import DetectPII\n",
    "from rich import print\n",
    "\n",
    "from IPython.display import clear_output\n",
    "\n",
    "import warnings\n",
    "warnings.filterwarnings(\"ignore\")"
   ]
  },
  {
   "cell_type": "code",
   "execution_count": 78,
   "metadata": {},
   "outputs": [],
   "source": [
    "load_dotenv()\n",
    "\n",
    "GPT_MODEL = 'gpt-4'\n",
    "\n",
    "# API Configuration\n",
    "os.environ[\"OPENAI_API_KEY\"] = os.getenv(\"OPENAI_API_KEY\")\n",
    "OpenAI.api_key = os.getenv(\"OPENAI_API_KEY\")"
   ]
  },
  {
   "cell_type": "code",
   "execution_count": 25,
   "metadata": {},
   "outputs": [],
   "source": [
    "# initialize guard object \n",
    "\n",
    "guard = gd.Guard().use(DetectPII(pii_entities=\"pii\", on_fail=\"fix\"))"
   ]
  },
  {
   "cell_type": "code",
   "execution_count": 113,
   "metadata": {},
   "outputs": [],
   "source": [
    "# test prompt\n",
    "\n",
    "prompt = \"\"\"Please translate the following to Vietnamese: \n",
    "\n",
    "    \"Hi Robert! Please see below for your requested info\n",
    "\n",
    "    full name: Phu Dang\n",
    "    SSN: 123-45-1119\n",
    "    email: pndang@ucsd.edu\n",
    "    birthday: 04/11/2003, so I am 21 years old\n",
    "    What's your nationality? I am a Vietnamese citizen\n",
    "    What's your credit score? 775 FICO\n",
    "    What's the loan amount requested? $1,000,000\n",
    "    What's the loan purpose? Invest $500,000 in Sustana Cooling Partners as working capital and cash out the rest for my hi-performing restaurant business (Beers & Bastards, LLC). \n",
    "\n",
    "    Please ping me the best terms you could offer. Thanks!\"\n",
    "    \"\"\""
   ]
  },
  {
   "cell_type": "code",
   "execution_count": 114,
   "metadata": {},
   "outputs": [
    {
     "data": {
      "text/html": [
       "<pre style=\"white-space:pre;overflow-x:auto;line-height:normal;font-family:Menlo,'DejaVu Sans Mono',consolas,'Courier New',monospace\"><span style=\"color: #800080; text-decoration-color: #800080; font-weight: bold\">ValidationOutcome</span><span style=\"font-weight: bold\">(</span>\n",
       "    <span style=\"color: #808000; text-decoration-color: #808000\">call_id</span>=<span style=\"color: #008000; text-decoration-color: #008000\">'2045146176944'</span>,\n",
       "    <span style=\"color: #808000; text-decoration-color: #808000\">raw_llm_output</span>=<span style=\"color: #008000; text-decoration-color: #008000\">'Please translate the following to Vietnamese: \\n\\n    \"Hi Robert! Please see below for your </span>\n",
       "<span style=\"color: #008000; text-decoration-color: #008000\">requested info\\n\\n    full name: Phu Dang\\n    SSN: 123-45-1119\\n    email: pndang@ucsd.edu\\n    birthday: </span>\n",
       "<span style=\"color: #008000; text-decoration-color: #008000\">04/11/2003, so I am 21 years old\\n    What\\'s your nationality? I am a Vietnamese citizen\\n    What\\'s your credit </span>\n",
       "<span style=\"color: #008000; text-decoration-color: #008000\">score? 775 FICO\\n    What\\'s the loan amount requested? $1,000,000\\n    What\\'s the loan purpose? Invest $500,000 </span>\n",
       "<span style=\"color: #008000; text-decoration-color: #008000\">in Sustana Cooling Partners as working capital and cash out the rest for my hi-performing restaurant business </span>\n",
       "<span style=\"color: #008000; text-decoration-color: #008000\">(Beers &amp; Bastards, LLC). \\n\\n    Please ping me the best terms you could offer. Thanks!\"\\n    '</span>,\n",
       "    <span style=\"color: #808000; text-decoration-color: #808000\">validation_summaries</span>=<span style=\"font-weight: bold\">[</span>\n",
       "        <span style=\"color: #800080; text-decoration-color: #800080; font-weight: bold\">ValidationSummary</span><span style=\"font-weight: bold\">(</span>\n",
       "            <span style=\"color: #808000; text-decoration-color: #808000\">validator_name</span>=<span style=\"color: #008000; text-decoration-color: #008000\">'DetectPII'</span>,\n",
       "            <span style=\"color: #808000; text-decoration-color: #808000\">validator_status</span>=<span style=\"color: #008000; text-decoration-color: #008000\">'fail'</span>,\n",
       "            <span style=\"color: #808000; text-decoration-color: #808000\">property_path</span>=<span style=\"color: #008000; text-decoration-color: #008000\">'$'</span>,\n",
       "            <span style=\"color: #808000; text-decoration-color: #808000\">failure_reason</span>=<span style=\"color: #008000; text-decoration-color: #008000\">'The following text in your response contains PII:\\nPlease translate the following to </span>\n",
       "<span style=\"color: #008000; text-decoration-color: #008000\">Vietnamese: \\n\\n    \"Hi Robert! Please see below for your requested info\\n\\n    full name: Phu Dang\\n    SSN: </span>\n",
       "<span style=\"color: #008000; text-decoration-color: #008000\">123-45-1119\\n    email: pndang@ucsd.edu\\n    birthday: 04/11/2003, so I am 21 years old\\n    What\\'s your </span>\n",
       "<span style=\"color: #008000; text-decoration-color: #008000\">nationality? I am a Vietnamese citizen\\n    What\\'s your credit score? 775 FICO\\n    What\\'s the loan amount </span>\n",
       "<span style=\"color: #008000; text-decoration-color: #008000\">requested? $1,000,000\\n    What\\'s the loan purpose? Invest $500,000 in Sustana Cooling Partners as working capital</span>\n",
       "<span style=\"color: #008000; text-decoration-color: #008000\">and cash out the rest for my hi-performing restaurant business (Beers &amp; Bastards, LLC). \\n\\n    Please ping me the </span>\n",
       "<span style=\"color: #008000; text-decoration-color: #008000\">best terms you could offer. Thanks!\"\\n    '</span>,\n",
       "            <span style=\"color: #808000; text-decoration-color: #808000\">error_spans</span>=<span style=\"font-weight: bold\">[</span>\n",
       "                <span style=\"color: #800080; text-decoration-color: #800080; font-weight: bold\">ErrorSpan</span><span style=\"font-weight: bold\">(</span><span style=\"color: #808000; text-decoration-color: #808000\">start</span>=<span style=\"color: #008080; text-decoration-color: #008080; font-weight: bold\">57</span>, <span style=\"color: #808000; text-decoration-color: #808000\">end</span>=<span style=\"color: #008080; text-decoration-color: #008080; font-weight: bold\">62</span>, <span style=\"color: #808000; text-decoration-color: #808000\">reason</span>=<span style=\"color: #008000; text-decoration-color: #008000\">'PII detected in obert'</span><span style=\"font-weight: bold\">)</span>,\n",
       "                <span style=\"color: #800080; text-decoration-color: #800080; font-weight: bold\">ErrorSpan</span><span style=\"font-weight: bold\">(</span><span style=\"color: #808000; text-decoration-color: #808000\">start</span>=<span style=\"color: #008080; text-decoration-color: #008080; font-weight: bold\">162</span>, <span style=\"color: #808000; text-decoration-color: #808000\">end</span>=<span style=\"color: #008080; text-decoration-color: #008080; font-weight: bold\">177</span>, <span style=\"color: #808000; text-decoration-color: #808000\">reason</span>=<span style=\"color: #008000; text-decoration-color: #008000\">'PII detected in pndang@ucsd.edu'</span><span style=\"font-weight: bold\">)</span>,\n",
       "                <span style=\"color: #800080; text-decoration-color: #800080; font-weight: bold\">ErrorSpan</span><span style=\"font-weight: bold\">(</span><span style=\"color: #808000; text-decoration-color: #808000\">start</span>=<span style=\"color: #008080; text-decoration-color: #008080; font-weight: bold\">192</span>, <span style=\"color: #808000; text-decoration-color: #808000\">end</span>=<span style=\"color: #008080; text-decoration-color: #008080; font-weight: bold\">202</span>, <span style=\"color: #808000; text-decoration-color: #808000\">reason</span>=<span style=\"color: #008000; text-decoration-color: #008000\">'PII detected in 04/11/2003'</span><span style=\"font-weight: bold\">)</span>,\n",
       "                <span style=\"color: #800080; text-decoration-color: #800080; font-weight: bold\">ErrorSpan</span><span style=\"font-weight: bold\">(</span><span style=\"color: #808000; text-decoration-color: #808000\">start</span>=<span style=\"color: #008080; text-decoration-color: #008080; font-weight: bold\">212</span>, <span style=\"color: #808000; text-decoration-color: #808000\">end</span>=<span style=\"color: #008080; text-decoration-color: #008080; font-weight: bold\">224</span>, <span style=\"color: #808000; text-decoration-color: #808000\">reason</span>=<span style=\"color: #008000; text-decoration-color: #008000\">'PII detected in 21 years old'</span><span style=\"font-weight: bold\">)</span>\n",
       "            <span style=\"font-weight: bold\">]</span>\n",
       "        <span style=\"font-weight: bold\">)</span>\n",
       "    <span style=\"font-weight: bold\">]</span>,\n",
       "    <span style=\"color: #808000; text-decoration-color: #808000\">validated_output</span>=<span style=\"color: #008000; text-decoration-color: #008000\">'Please translate the following to Vietnamese: \\n\\n    \"Hi &lt;PERSON&gt;! Please see below for your</span>\n",
       "<span style=\"color: #008000; text-decoration-color: #008000\">requested info\\n\\n    full name: Phu Dang\\n    SSN: 123-45-1119\\n    email: &lt;EMAIL_ADDRESS&gt;\\n    birthday: </span>\n",
       "<span style=\"color: #008000; text-decoration-color: #008000\">&lt;DATE_TIME&gt;, so I am &lt;DATE_TIME&gt;\\n    What\\'s your nationality? I am a Vietnamese citizen\\n    What\\'s your credit </span>\n",
       "<span style=\"color: #008000; text-decoration-color: #008000\">score? 775 FICO\\n    What\\'s the loan amount requested? $1,000,000\\n    What\\'s the loan purpose? Invest $500,000 </span>\n",
       "<span style=\"color: #008000; text-decoration-color: #008000\">in Sustana Cooling Partners as working capital and cash out the rest for my hi-performing restaurant business </span>\n",
       "<span style=\"color: #008000; text-decoration-color: #008000\">(Beers &amp; Bastards, LLC). \\n\\n    Please ping me the best terms you could offer. Thanks!\"\\n    '</span>,\n",
       "    <span style=\"color: #808000; text-decoration-color: #808000\">reask</span>=<span style=\"color: #800080; text-decoration-color: #800080; font-style: italic\">None</span>,\n",
       "    <span style=\"color: #808000; text-decoration-color: #808000\">validation_passed</span>=<span style=\"color: #00ff00; text-decoration-color: #00ff00; font-style: italic\">True</span>,\n",
       "    <span style=\"color: #808000; text-decoration-color: #808000\">error</span>=<span style=\"color: #800080; text-decoration-color: #800080; font-style: italic\">None</span>\n",
       "<span style=\"font-weight: bold\">)</span>\n",
       "</pre>\n"
      ],
      "text/plain": [
       "\u001b[1;35mValidationOutcome\u001b[0m\u001b[1m(\u001b[0m\n",
       "    \u001b[33mcall_id\u001b[0m=\u001b[32m'2045146176944'\u001b[0m,\n",
       "    \u001b[33mraw_llm_output\u001b[0m=\u001b[32m'Please translate the following to Vietnamese: \\n\\n    \"Hi Robert! Please see below for your \u001b[0m\n",
       "\u001b[32mrequested info\\n\\n    full name: Phu Dang\\n    SSN: 123-45-1119\\n    email: pndang@ucsd.edu\\n    birthday: \u001b[0m\n",
       "\u001b[32m04/11/2003, so I am 21 years old\\n    What\\'s your nationality? I am a Vietnamese citizen\\n    What\\'s your credit \u001b[0m\n",
       "\u001b[32mscore? 775 FICO\\n    What\\'s the loan amount requested? $1,000,000\\n    What\\'s the loan purpose? Invest $500,000 \u001b[0m\n",
       "\u001b[32min Sustana Cooling Partners as working capital and cash out the rest for my hi-performing restaurant business \u001b[0m\n",
       "\u001b[32m(\u001b[0m\u001b[32mBeers & Bastards, LLC\u001b[0m\u001b[32m)\u001b[0m\u001b[32m. \\n\\n    Please ping me the best terms you could offer. Thanks!\"\\n    '\u001b[0m,\n",
       "    \u001b[33mvalidation_summaries\u001b[0m=\u001b[1m[\u001b[0m\n",
       "        \u001b[1;35mValidationSummary\u001b[0m\u001b[1m(\u001b[0m\n",
       "            \u001b[33mvalidator_name\u001b[0m=\u001b[32m'DetectPII'\u001b[0m,\n",
       "            \u001b[33mvalidator_status\u001b[0m=\u001b[32m'fail'\u001b[0m,\n",
       "            \u001b[33mproperty_path\u001b[0m=\u001b[32m'$'\u001b[0m,\n",
       "            \u001b[33mfailure_reason\u001b[0m=\u001b[32m'The following text in your response contains PII:\\nPlease translate the following to \u001b[0m\n",
       "\u001b[32mVietnamese: \\n\\n    \"Hi Robert! Please see below for your requested info\\n\\n    full name: Phu Dang\\n    SSN: \u001b[0m\n",
       "\u001b[32m123-45-1119\\n    email: pndang@ucsd.edu\\n    birthday: 04/11/2003, so I am 21 years old\\n    What\\'s your \u001b[0m\n",
       "\u001b[32mnationality? I am a Vietnamese citizen\\n    What\\'s your credit score? 775 FICO\\n    What\\'s the loan amount \u001b[0m\n",
       "\u001b[32mrequested? $1,000,000\\n    What\\'s the loan purpose? Invest $500,000 in Sustana Cooling Partners as working capital\u001b[0m\n",
       "\u001b[32mand cash out the rest for my hi-performing restaurant business \u001b[0m\u001b[32m(\u001b[0m\u001b[32mBeers & Bastards, LLC\u001b[0m\u001b[32m)\u001b[0m\u001b[32m. \\n\\n    Please ping me the \u001b[0m\n",
       "\u001b[32mbest terms you could offer. Thanks!\"\\n    '\u001b[0m,\n",
       "            \u001b[33merror_spans\u001b[0m=\u001b[1m[\u001b[0m\n",
       "                \u001b[1;35mErrorSpan\u001b[0m\u001b[1m(\u001b[0m\u001b[33mstart\u001b[0m=\u001b[1;36m57\u001b[0m, \u001b[33mend\u001b[0m=\u001b[1;36m62\u001b[0m, \u001b[33mreason\u001b[0m=\u001b[32m'PII detected in obert'\u001b[0m\u001b[1m)\u001b[0m,\n",
       "                \u001b[1;35mErrorSpan\u001b[0m\u001b[1m(\u001b[0m\u001b[33mstart\u001b[0m=\u001b[1;36m162\u001b[0m, \u001b[33mend\u001b[0m=\u001b[1;36m177\u001b[0m, \u001b[33mreason\u001b[0m=\u001b[32m'PII detected in pndang@ucsd.edu'\u001b[0m\u001b[1m)\u001b[0m,\n",
       "                \u001b[1;35mErrorSpan\u001b[0m\u001b[1m(\u001b[0m\u001b[33mstart\u001b[0m=\u001b[1;36m192\u001b[0m, \u001b[33mend\u001b[0m=\u001b[1;36m202\u001b[0m, \u001b[33mreason\u001b[0m=\u001b[32m'PII detected in 04/11/2003'\u001b[0m\u001b[1m)\u001b[0m,\n",
       "                \u001b[1;35mErrorSpan\u001b[0m\u001b[1m(\u001b[0m\u001b[33mstart\u001b[0m=\u001b[1;36m212\u001b[0m, \u001b[33mend\u001b[0m=\u001b[1;36m224\u001b[0m, \u001b[33mreason\u001b[0m=\u001b[32m'PII detected in 21 years old'\u001b[0m\u001b[1m)\u001b[0m\n",
       "            \u001b[1m]\u001b[0m\n",
       "        \u001b[1m)\u001b[0m\n",
       "    \u001b[1m]\u001b[0m,\n",
       "    \u001b[33mvalidated_output\u001b[0m=\u001b[32m'Please translate the following to Vietnamese: \\n\\n    \"Hi \u001b[0m\u001b[32m<\u001b[0m\u001b[32mPERSON\u001b[0m\u001b[32m>! Please see below for your\u001b[0m\n",
       "\u001b[32mrequested info\\n\\n    full name: Phu Dang\\n    SSN: 123-45-1119\\n    email: <EMAIL_ADDRESS>\\n    birthday: \u001b[0m\n",
       "\u001b[32m<DATE_TIME>, so I am <DATE_TIME\u001b[0m\u001b[32m>\u001b[0m\u001b[32m\\n    What\\'s your nationality? I am a Vietnamese citizen\\n    What\\'s your credit \u001b[0m\n",
       "\u001b[32mscore? 775 FICO\\n    What\\'s the loan amount requested? $1,000,000\\n    What\\'s the loan purpose? Invest $500,000 \u001b[0m\n",
       "\u001b[32min Sustana Cooling Partners as working capital and cash out the rest for my hi-performing restaurant business \u001b[0m\n",
       "\u001b[32m(\u001b[0m\u001b[32mBeers & Bastards, LLC\u001b[0m\u001b[32m)\u001b[0m\u001b[32m. \\n\\n    Please ping me the best terms you could offer. Thanks!\"\\n    '\u001b[0m,\n",
       "    \u001b[33mreask\u001b[0m=\u001b[3;35mNone\u001b[0m,\n",
       "    \u001b[33mvalidation_passed\u001b[0m=\u001b[3;92mTrue\u001b[0m,\n",
       "    \u001b[33merror\u001b[0m=\u001b[3;35mNone\u001b[0m\n",
       "\u001b[1m)\u001b[0m\n"
      ]
     },
     "metadata": {},
     "output_type": "display_data"
    }
   ],
   "source": [
    "output = guard.parse(\n",
    "    llm_output=prompt,\n",
    ")\n",
    "\n",
    "# Print the output\n",
    "print(output)"
   ]
  },
  {
   "cell_type": "code",
   "execution_count": 115,
   "metadata": {},
   "outputs": [],
   "source": [
    "output = \"\"\"Please translate the following to Vietnamese:\n",
    "\n",
    "\"Hi <PERSON>! Please see below for your requested info\n",
    "\n",
    "full name: Phu Dang\n",
    "SSN: 123-45-6789\n",
    "email: <EMAIL_ADDRESS>\n",
    "birthday: <DATE_TIME>, so I am <DATE_TIME>\n",
    "What's your nationality? I am a Vietnamese citizen\n",
    "What's your credit score? 775 FICO\n",
    "What's the loan amount requested? $1,000,000\n",
    "What's the loan purpose? Invest $500,000 in Sustana Cooling Partners as working capital and cash out the rest for my hi-performing restaurant business (Beers & Bastards, LLC).\n",
    "\n",
    "Please ping me the best terms you could offer. Thanks!\"\n",
    "\"\"\""
   ]
  },
  {
   "cell_type": "code",
   "execution_count": 116,
   "metadata": {},
   "outputs": [
    {
     "data": {
      "text/html": [
       "<pre style=\"white-space:pre;overflow-x:auto;line-height:normal;font-family:Menlo,'DejaVu Sans Mono',consolas,'Courier New',monospace\">Please translate the following to Vietnamese:\n",
       "\n",
       "\"Hi <span style=\"font-weight: bold\">&lt;</span><span style=\"color: #ff00ff; text-decoration-color: #ff00ff; font-weight: bold\">PERSON</span><span style=\"color: #000000; text-decoration-color: #000000\">&gt;! Please see below for your requested info</span>\n",
       "\n",
       "<span style=\"color: #000000; text-decoration-color: #000000\">full name: Phu Dang</span>\n",
       "<span style=\"color: #000000; text-decoration-color: #000000\">SSN: </span><span style=\"color: #008080; text-decoration-color: #008080; font-weight: bold\">123</span><span style=\"color: #000000; text-decoration-color: #000000\">-</span><span style=\"color: #008080; text-decoration-color: #008080; font-weight: bold\">45</span><span style=\"color: #000000; text-decoration-color: #000000\">-</span><span style=\"color: #008080; text-decoration-color: #008080; font-weight: bold\">6789</span>\n",
       "<span style=\"color: #000000; text-decoration-color: #000000\">email: &lt;EMAIL_ADDRESS&gt;</span>\n",
       "<span style=\"color: #000000; text-decoration-color: #000000\">birthday: &lt;DATE_TIME&gt;, so I am &lt;DATE_TIME</span><span style=\"font-weight: bold\">&gt;</span>\n",
       "What's your nationality? I am a Vietnamese citizen\n",
       "What's your credit score? <span style=\"color: #008080; text-decoration-color: #008080; font-weight: bold\">775</span> FICO\n",
       "What's the loan amount requested? $<span style=\"color: #008080; text-decoration-color: #008080; font-weight: bold\">1</span>,<span style=\"color: #008080; text-decoration-color: #008080; font-weight: bold\">000</span>,<span style=\"color: #008080; text-decoration-color: #008080; font-weight: bold\">000</span>\n",
       "What's the loan purpose? Invest $<span style=\"color: #008080; text-decoration-color: #008080; font-weight: bold\">500</span>,<span style=\"color: #008080; text-decoration-color: #008080; font-weight: bold\">000</span> in Sustana Cooling Partners as working capital and cash out the rest for \n",
       "my hi-performing restaurant business <span style=\"font-weight: bold\">(</span>Beers &amp; Bastards, LLC<span style=\"font-weight: bold\">)</span>.\n",
       "\n",
       "Please ping me the best terms you could offer. Thanks!\"\n",
       "\n",
       "</pre>\n"
      ],
      "text/plain": [
       "Please translate the following to Vietnamese:\n",
       "\n",
       "\"Hi \u001b[1m<\u001b[0m\u001b[1;95mPERSON\u001b[0m\u001b[39m>! Please see below for your requested info\u001b[0m\n",
       "\n",
       "\u001b[39mfull name: Phu Dang\u001b[0m\n",
       "\u001b[39mSSN: \u001b[0m\u001b[1;36m123\u001b[0m\u001b[39m-\u001b[0m\u001b[1;36m45\u001b[0m\u001b[39m-\u001b[0m\u001b[1;36m6789\u001b[0m\n",
       "\u001b[39memail: <EMAIL_ADDRESS>\u001b[0m\n",
       "\u001b[39mbirthday: <DATE_TIME>, so I am <DATE_TIME\u001b[0m\u001b[1m>\u001b[0m\n",
       "What's your nationality? I am a Vietnamese citizen\n",
       "What's your credit score? \u001b[1;36m775\u001b[0m FICO\n",
       "What's the loan amount requested? $\u001b[1;36m1\u001b[0m,\u001b[1;36m000\u001b[0m,\u001b[1;36m000\u001b[0m\n",
       "What's the loan purpose? Invest $\u001b[1;36m500\u001b[0m,\u001b[1;36m000\u001b[0m in Sustana Cooling Partners as working capital and cash out the rest for \n",
       "my hi-performing restaurant business \u001b[1m(\u001b[0mBeers & Bastards, LLC\u001b[1m)\u001b[0m.\n",
       "\n",
       "Please ping me the best terms you could offer. Thanks!\"\n",
       "\n"
      ]
     },
     "metadata": {},
     "output_type": "display_data"
    }
   ],
   "source": [
    "print(output)"
   ]
  },
  {
   "cell_type": "markdown",
   "metadata": {},
   "source": [
    "#### Inquire Azure AI Text Analytics for PII detection"
   ]
  },
  {
   "cell_type": "code",
   "execution_count": 117,
   "metadata": {},
   "outputs": [],
   "source": [
    "# !pip install \"presidio-analyzer[azure-ai-language]\""
   ]
  },
  {
   "cell_type": "code",
   "execution_count": 118,
   "metadata": {},
   "outputs": [],
   "source": [
    "# !pip install azure-ai-textanalytics azure-core -q"
   ]
  },
  {
   "cell_type": "code",
   "execution_count": 119,
   "metadata": {},
   "outputs": [],
   "source": [
    "# Azure API Configuration\n",
    "os.environ[\"AZURE_AI_KEY\"] = os.getenv(\"AZURE_AI_KEY\")\n",
    "os.environ[\"AZURE_AI_ENDPOINT\"] = \"https://hdsi-capstone.cognitiveservices.azure.com/\""
   ]
  },
  {
   "cell_type": "code",
   "execution_count": 120,
   "metadata": {},
   "outputs": [],
   "source": [
    "from azure.core.credentials import AzureKeyCredential\n",
    "from azure.ai.textanalytics import TextAnalyticsClient\n",
    "endpoint = os.environ[\"AZURE_AI_ENDPOINT\"]\n",
    "key = os.environ[\"AZURE_AI_KEY\"]\n",
    "\n",
    "text_analytics_client = TextAnalyticsClient(endpoint, AzureKeyCredential(key))"
   ]
  },
  {
   "cell_type": "code",
   "execution_count": 121,
   "metadata": {},
   "outputs": [],
   "source": [
    "# get PII detection results from Azure AI\n",
    "\n",
    "documents = [prompt]\n",
    "res = text_analytics_client.recognize_pii_entities(documents)"
   ]
  },
  {
   "cell_type": "code",
   "execution_count": 122,
   "metadata": {},
   "outputs": [],
   "source": [
    "docs = [doc for doc in res if not doc.is_error]"
   ]
  },
  {
   "cell_type": "code",
   "execution_count": 123,
   "metadata": {},
   "outputs": [
    {
     "data": {
      "text/html": [
       "<pre style=\"white-space:pre;overflow-x:auto;line-height:normal;font-family:Menlo,'DejaVu Sans Mono',consolas,'Courier New',monospace\">Document text: Please translate the following to Vietnamese: \n",
       "\n",
       "    \"Hi Robert! Please see below for your requested info\n",
       "\n",
       "    full name: Phu Dang\n",
       "    SSN: <span style=\"color: #008080; text-decoration-color: #008080; font-weight: bold\">123</span>-<span style=\"color: #008080; text-decoration-color: #008080; font-weight: bold\">45</span>-<span style=\"color: #008080; text-decoration-color: #008080; font-weight: bold\">1119</span>\n",
       "    email: pndang@ucsd.edu\n",
       "    birthday: <span style=\"color: #008080; text-decoration-color: #008080; font-weight: bold\">04</span>/<span style=\"color: #008080; text-decoration-color: #008080; font-weight: bold\">11</span>/<span style=\"color: #008080; text-decoration-color: #008080; font-weight: bold\">2003</span>, so I am <span style=\"color: #008080; text-decoration-color: #008080; font-weight: bold\">21</span> years old\n",
       "    What's your nationality? I am a Vietnamese citizen\n",
       "    What's your credit score? <span style=\"color: #008080; text-decoration-color: #008080; font-weight: bold\">775</span> FICO\n",
       "    What's the loan amount requested? $<span style=\"color: #008080; text-decoration-color: #008080; font-weight: bold\">1</span>,<span style=\"color: #008080; text-decoration-color: #008080; font-weight: bold\">000</span>,<span style=\"color: #008080; text-decoration-color: #008080; font-weight: bold\">000</span>\n",
       "    What's the loan purpose? Invest $<span style=\"color: #008080; text-decoration-color: #008080; font-weight: bold\">500</span>,<span style=\"color: #008080; text-decoration-color: #008080; font-weight: bold\">000</span> in Sustana Cooling Partners as working capital and cash out the rest \n",
       "for my hi-performing restaurant business <span style=\"font-weight: bold\">(</span>Beers &amp; Bastards, LLC<span style=\"font-weight: bold\">)</span>. \n",
       "\n",
       "    Please ping me the best terms you could offer. Thanks!\"\n",
       "    \n",
       "</pre>\n"
      ],
      "text/plain": [
       "Document text: Please translate the following to Vietnamese: \n",
       "\n",
       "    \"Hi Robert! Please see below for your requested info\n",
       "\n",
       "    full name: Phu Dang\n",
       "    SSN: \u001b[1;36m123\u001b[0m-\u001b[1;36m45\u001b[0m-\u001b[1;36m1119\u001b[0m\n",
       "    email: pndang@ucsd.edu\n",
       "    birthday: \u001b[1;36m04\u001b[0m/\u001b[1;36m11\u001b[0m/\u001b[1;36m2003\u001b[0m, so I am \u001b[1;36m21\u001b[0m years old\n",
       "    What's your nationality? I am a Vietnamese citizen\n",
       "    What's your credit score? \u001b[1;36m775\u001b[0m FICO\n",
       "    What's the loan amount requested? $\u001b[1;36m1\u001b[0m,\u001b[1;36m000\u001b[0m,\u001b[1;36m000\u001b[0m\n",
       "    What's the loan purpose? Invest $\u001b[1;36m500\u001b[0m,\u001b[1;36m000\u001b[0m in Sustana Cooling Partners as working capital and cash out the rest \n",
       "for my hi-performing restaurant business \u001b[1m(\u001b[0mBeers & Bastards, LLC\u001b[1m)\u001b[0m. \n",
       "\n",
       "    Please ping me the best terms you could offer. Thanks!\"\n",
       "    \n"
      ]
     },
     "metadata": {},
     "output_type": "display_data"
    },
    {
     "data": {
      "text/html": [
       "<pre style=\"white-space:pre;overflow-x:auto;line-height:normal;font-family:Menlo,'DejaVu Sans Mono',consolas,'Courier New',monospace\">Redacted document text: Please translate the following to Vietnamese: \n",
       "\n",
       "    \"Hi ******! Please see below for your requested info\n",
       "\n",
       "    full name: ********\n",
       "    SSN: ***********\n",
       "    email: ***************\n",
       "    birthday: **********, so I am ************\n",
       "    What's your nationality? I am a ********** *******\n",
       "    What's your credit score? <span style=\"color: #008080; text-decoration-color: #008080; font-weight: bold\">775</span> FICO\n",
       "    What's the loan amount requested? $<span style=\"color: #008080; text-decoration-color: #008080; font-weight: bold\">1</span>,<span style=\"color: #008080; text-decoration-color: #008080; font-weight: bold\">000</span>,<span style=\"color: #008080; text-decoration-color: #008080; font-weight: bold\">000</span>\n",
       "    What's the loan purpose? Invest $<span style=\"color: #008080; text-decoration-color: #008080; font-weight: bold\">500</span>,<span style=\"color: #008080; text-decoration-color: #008080; font-weight: bold\">000</span> in ************************ as working capital and cash out the rest \n",
       "for my hi-performing restaurant business <span style=\"font-weight: bold\">(</span>*********************<span style=\"font-weight: bold\">)</span>. \n",
       "\n",
       "    Please ping me the best terms you could offer. Thanks!\"\n",
       "    \n",
       "</pre>\n"
      ],
      "text/plain": [
       "Redacted document text: Please translate the following to Vietnamese: \n",
       "\n",
       "    \"Hi ******! Please see below for your requested info\n",
       "\n",
       "    full name: ********\n",
       "    SSN: ***********\n",
       "    email: ***************\n",
       "    birthday: **********, so I am ************\n",
       "    What's your nationality? I am a ********** *******\n",
       "    What's your credit score? \u001b[1;36m775\u001b[0m FICO\n",
       "    What's the loan amount requested? $\u001b[1;36m1\u001b[0m,\u001b[1;36m000\u001b[0m,\u001b[1;36m000\u001b[0m\n",
       "    What's the loan purpose? Invest $\u001b[1;36m500\u001b[0m,\u001b[1;36m000\u001b[0m in ************************ as working capital and cash out the rest \n",
       "for my hi-performing restaurant business \u001b[1m(\u001b[0m*********************\u001b[1m)\u001b[0m. \n",
       "\n",
       "    Please ping me the best terms you could offer. Thanks!\"\n",
       "    \n"
      ]
     },
     "metadata": {},
     "output_type": "display_data"
    },
    {
     "data": {
      "text/html": [
       "<pre style=\"white-space:pre;overflow-x:auto;line-height:normal;font-family:Menlo,'DejaVu Sans Mono',consolas,'Courier New',monospace\"><span style=\"color: #808000; text-decoration-color: #808000\">...</span>Entity <span style=\"color: #008000; text-decoration-color: #008000\">'Robert'</span> with category <span style=\"color: #008000; text-decoration-color: #008000\">'Person'</span> got redacted\n",
       "</pre>\n"
      ],
      "text/plain": [
       "\u001b[33m...\u001b[0mEntity \u001b[32m'Robert'\u001b[0m with category \u001b[32m'Person'\u001b[0m got redacted\n"
      ]
     },
     "metadata": {},
     "output_type": "display_data"
    },
    {
     "data": {
      "text/html": [
       "<pre style=\"white-space:pre;overflow-x:auto;line-height:normal;font-family:Menlo,'DejaVu Sans Mono',consolas,'Courier New',monospace\"><span style=\"color: #808000; text-decoration-color: #808000\">...</span>Entity <span style=\"color: #008000; text-decoration-color: #008000\">'Phu Dang'</span> with category <span style=\"color: #008000; text-decoration-color: #008000\">'Person'</span> got redacted\n",
       "</pre>\n"
      ],
      "text/plain": [
       "\u001b[33m...\u001b[0mEntity \u001b[32m'Phu Dang'\u001b[0m with category \u001b[32m'Person'\u001b[0m got redacted\n"
      ]
     },
     "metadata": {},
     "output_type": "display_data"
    },
    {
     "data": {
      "text/html": [
       "<pre style=\"white-space:pre;overflow-x:auto;line-height:normal;font-family:Menlo,'DejaVu Sans Mono',consolas,'Courier New',monospace\"><span style=\"color: #808000; text-decoration-color: #808000\">...</span>Entity <span style=\"color: #008000; text-decoration-color: #008000\">'123-45-1119'</span> with category <span style=\"color: #008000; text-decoration-color: #008000\">'USSocialSecurityNumber'</span> got redacted\n",
       "</pre>\n"
      ],
      "text/plain": [
       "\u001b[33m...\u001b[0mEntity \u001b[32m'123-45-1119'\u001b[0m with category \u001b[32m'USSocialSecurityNumber'\u001b[0m got redacted\n"
      ]
     },
     "metadata": {},
     "output_type": "display_data"
    },
    {
     "data": {
      "text/html": [
       "<pre style=\"white-space:pre;overflow-x:auto;line-height:normal;font-family:Menlo,'DejaVu Sans Mono',consolas,'Courier New',monospace\"><span style=\"color: #808000; text-decoration-color: #808000\">...</span>Entity <span style=\"color: #008000; text-decoration-color: #008000\">'pndang@ucsd.edu'</span> with category <span style=\"color: #008000; text-decoration-color: #008000\">'Email'</span> got redacted\n",
       "</pre>\n"
      ],
      "text/plain": [
       "\u001b[33m...\u001b[0mEntity \u001b[32m'pndang@ucsd.edu'\u001b[0m with category \u001b[32m'Email'\u001b[0m got redacted\n"
      ]
     },
     "metadata": {},
     "output_type": "display_data"
    },
    {
     "data": {
      "text/html": [
       "<pre style=\"white-space:pre;overflow-x:auto;line-height:normal;font-family:Menlo,'DejaVu Sans Mono',consolas,'Courier New',monospace\"><span style=\"color: #808000; text-decoration-color: #808000\">...</span>Entity <span style=\"color: #008000; text-decoration-color: #008000\">'04/11/2003'</span> with category <span style=\"color: #008000; text-decoration-color: #008000\">'DateTime'</span> got redacted\n",
       "</pre>\n"
      ],
      "text/plain": [
       "\u001b[33m...\u001b[0mEntity \u001b[32m'04/11/2003'\u001b[0m with category \u001b[32m'DateTime'\u001b[0m got redacted\n"
      ]
     },
     "metadata": {},
     "output_type": "display_data"
    },
    {
     "data": {
      "text/html": [
       "<pre style=\"white-space:pre;overflow-x:auto;line-height:normal;font-family:Menlo,'DejaVu Sans Mono',consolas,'Courier New',monospace\"><span style=\"color: #808000; text-decoration-color: #808000\">...</span>Entity <span style=\"color: #008000; text-decoration-color: #008000\">'21 years old'</span> with category <span style=\"color: #008000; text-decoration-color: #008000\">'Quantity'</span> got redacted\n",
       "</pre>\n"
      ],
      "text/plain": [
       "\u001b[33m...\u001b[0mEntity \u001b[32m'21 years old'\u001b[0m with category \u001b[32m'Quantity'\u001b[0m got redacted\n"
      ]
     },
     "metadata": {},
     "output_type": "display_data"
    },
    {
     "data": {
      "text/html": [
       "<pre style=\"white-space:pre;overflow-x:auto;line-height:normal;font-family:Menlo,'DejaVu Sans Mono',consolas,'Courier New',monospace\"><span style=\"color: #808000; text-decoration-color: #808000\">...</span>Entity <span style=\"color: #008000; text-decoration-color: #008000\">'Vietnamese'</span> with category <span style=\"color: #008000; text-decoration-color: #008000\">'PersonType'</span> got redacted\n",
       "</pre>\n"
      ],
      "text/plain": [
       "\u001b[33m...\u001b[0mEntity \u001b[32m'Vietnamese'\u001b[0m with category \u001b[32m'PersonType'\u001b[0m got redacted\n"
      ]
     },
     "metadata": {},
     "output_type": "display_data"
    },
    {
     "data": {
      "text/html": [
       "<pre style=\"white-space:pre;overflow-x:auto;line-height:normal;font-family:Menlo,'DejaVu Sans Mono',consolas,'Courier New',monospace\"><span style=\"color: #808000; text-decoration-color: #808000\">...</span>Entity <span style=\"color: #008000; text-decoration-color: #008000\">'citizen'</span> with category <span style=\"color: #008000; text-decoration-color: #008000\">'PersonType'</span> got redacted\n",
       "</pre>\n"
      ],
      "text/plain": [
       "\u001b[33m...\u001b[0mEntity \u001b[32m'citizen'\u001b[0m with category \u001b[32m'PersonType'\u001b[0m got redacted\n"
      ]
     },
     "metadata": {},
     "output_type": "display_data"
    },
    {
     "data": {
      "text/html": [
       "<pre style=\"white-space:pre;overflow-x:auto;line-height:normal;font-family:Menlo,'DejaVu Sans Mono',consolas,'Courier New',monospace\"><span style=\"color: #808000; text-decoration-color: #808000\">...</span>Entity <span style=\"color: #008000; text-decoration-color: #008000\">'Sustana Cooling Partners'</span> with category <span style=\"color: #008000; text-decoration-color: #008000\">'Organization'</span> got redacted\n",
       "</pre>\n"
      ],
      "text/plain": [
       "\u001b[33m...\u001b[0mEntity \u001b[32m'Sustana Cooling Partners'\u001b[0m with category \u001b[32m'Organization'\u001b[0m got redacted\n"
      ]
     },
     "metadata": {},
     "output_type": "display_data"
    },
    {
     "data": {
      "text/html": [
       "<pre style=\"white-space:pre;overflow-x:auto;line-height:normal;font-family:Menlo,'DejaVu Sans Mono',consolas,'Courier New',monospace\"><span style=\"color: #808000; text-decoration-color: #808000\">...</span>Entity <span style=\"color: #008000; text-decoration-color: #008000\">'Beers &amp; Bastards, LLC'</span> with category <span style=\"color: #008000; text-decoration-color: #008000\">'Organization'</span> got redacted\n",
       "</pre>\n"
      ],
      "text/plain": [
       "\u001b[33m...\u001b[0mEntity \u001b[32m'Beers & Bastards, LLC'\u001b[0m with category \u001b[32m'Organization'\u001b[0m got redacted\n"
      ]
     },
     "metadata": {},
     "output_type": "display_data"
    }
   ],
   "source": [
    "for idx, doc in enumerate(docs):\n",
    "    print(f\"Document text: {documents[idx]}\")\n",
    "    print(f\"Redacted document text: {doc.redacted_text}\")\n",
    "    for entity in doc.entities:\n",
    "        print(\"...Entity '{}' with category '{}' got redacted\".format(\n",
    "            entity.text, entity.category\n",
    "        ))"
   ]
  },
  {
   "cell_type": "code",
   "execution_count": 124,
   "metadata": {},
   "outputs": [
    {
     "data": {
      "text/html": [
       "<pre style=\"white-space:pre;overflow-x:auto;line-height:normal;font-family:Menlo,'DejaVu Sans Mono',consolas,'Courier New',monospace\">Please translate the following to Vietnamese: \n",
       "\n",
       "    \"Hi ******! Please see below for your requested info\n",
       "\n",
       "    full name: ********\n",
       "    SSN: ***********\n",
       "    email: ***************\n",
       "    birthday: **********, so I am ************\n",
       "    What's your nationality? I am a ********** *******\n",
       "    What's your credit score? <span style=\"color: #008080; text-decoration-color: #008080; font-weight: bold\">775</span> FICO\n",
       "    What's the loan amount requested? $<span style=\"color: #008080; text-decoration-color: #008080; font-weight: bold\">1</span>,<span style=\"color: #008080; text-decoration-color: #008080; font-weight: bold\">000</span>,<span style=\"color: #008080; text-decoration-color: #008080; font-weight: bold\">000</span>\n",
       "    What's the loan purpose? Invest $<span style=\"color: #008080; text-decoration-color: #008080; font-weight: bold\">500</span>,<span style=\"color: #008080; text-decoration-color: #008080; font-weight: bold\">000</span> in ************************ as working capital and cash out the rest \n",
       "for my hi-performing restaurant business <span style=\"font-weight: bold\">(</span>*********************<span style=\"font-weight: bold\">)</span>. \n",
       "\n",
       "    Please ping me the best terms you could offer. Thanks!\"\n",
       "    \n",
       "</pre>\n"
      ],
      "text/plain": [
       "Please translate the following to Vietnamese: \n",
       "\n",
       "    \"Hi ******! Please see below for your requested info\n",
       "\n",
       "    full name: ********\n",
       "    SSN: ***********\n",
       "    email: ***************\n",
       "    birthday: **********, so I am ************\n",
       "    What's your nationality? I am a ********** *******\n",
       "    What's your credit score? \u001b[1;36m775\u001b[0m FICO\n",
       "    What's the loan amount requested? $\u001b[1;36m1\u001b[0m,\u001b[1;36m000\u001b[0m,\u001b[1;36m000\u001b[0m\n",
       "    What's the loan purpose? Invest $\u001b[1;36m500\u001b[0m,\u001b[1;36m000\u001b[0m in ************************ as working capital and cash out the rest \n",
       "for my hi-performing restaurant business \u001b[1m(\u001b[0m*********************\u001b[1m)\u001b[0m. \n",
       "\n",
       "    Please ping me the best terms you could offer. Thanks!\"\n",
       "    \n"
      ]
     },
     "metadata": {},
     "output_type": "display_data"
    }
   ],
   "source": [
    "azureai_redacted_prompt = docs[0].redacted_text\n",
    "print(azureai_redacted_prompt)"
   ]
  },
  {
   "cell_type": "code",
   "execution_count": 126,
   "metadata": {},
   "outputs": [
    {
     "data": {
      "text/html": [
       "<pre style=\"white-space:pre;overflow-x:auto;line-height:normal;font-family:Menlo,'DejaVu Sans Mono',consolas,'Courier New',monospace\">\"Xin chào ******! Xin xem thông tin bạn yêu cầu bên dưới\n",
       "\n",
       "    họ tên đầy đủ: ********\n",
       "    SSN: ***********\n",
       "    email: ***************\n",
       "    ngày sinh: **********, vậy nên tôi là ************\n",
       "    Quốc tịch của bạn là gì? Tôi là người ********** *******\n",
       "    Điểm số tín dụng của bạn là bao nhiêu? <span style=\"color: #008080; text-decoration-color: #008080; font-weight: bold\">775</span> FICO\n",
       "    Số tiền vay yêu cầu là bao nhiêu? $<span style=\"color: #008080; text-decoration-color: #008080; font-weight: bold\">1</span>,<span style=\"color: #008080; text-decoration-color: #008080; font-weight: bold\">000</span>,<span style=\"color: #008080; text-decoration-color: #008080; font-weight: bold\">000</span>\n",
       "    Mục đích vay vốn là gì? Đầu tư $<span style=\"color: #008080; text-decoration-color: #008080; font-weight: bold\">500</span>,<span style=\"color: #008080; text-decoration-color: #008080; font-weight: bold\">000</span> vào ************************ như là vốn lưu động và rút phần còn lại \n",
       "cho doanh nghiệp nhà hàng hiệu quả cao của tôi <span style=\"font-weight: bold\">(</span>*********************<span style=\"font-weight: bold\">)</span>.\n",
       "\n",
       "    Xin vui lòng gửi cho tôi các điều khoản tốt nhất bạn có thể cung cấp. Cảm ơn!\"\n",
       "\n",
       "</pre>\n"
      ],
      "text/plain": [
       "\"Xin chào ******! Xin xem thông tin bạn yêu cầu bên dưới\n",
       "\n",
       "    họ tên đầy đủ: ********\n",
       "    SSN: ***********\n",
       "    email: ***************\n",
       "    ngày sinh: **********, vậy nên tôi là ************\n",
       "    Quốc tịch của bạn là gì? Tôi là người ********** *******\n",
       "    Điểm số tín dụng của bạn là bao nhiêu? \u001b[1;36m775\u001b[0m FICO\n",
       "    Số tiền vay yêu cầu là bao nhiêu? $\u001b[1;36m1\u001b[0m,\u001b[1;36m000\u001b[0m,\u001b[1;36m000\u001b[0m\n",
       "    Mục đích vay vốn là gì? Đầu tư $\u001b[1;36m500\u001b[0m,\u001b[1;36m000\u001b[0m vào ************************ như là vốn lưu động và rút phần còn lại \n",
       "cho doanh nghiệp nhà hàng hiệu quả cao của tôi \u001b[1m(\u001b[0m*********************\u001b[1m)\u001b[0m.\n",
       "\n",
       "    Xin vui lòng gửi cho tôi các điều khoản tốt nhất bạn có thể cung cấp. Cảm ơn!\"\n",
       "\n"
      ]
     },
     "metadata": {},
     "output_type": "display_data"
    }
   ],
   "source": [
    "# translate\n",
    "\n",
    "res = OpenAI().chat.completions.create(\n",
    "    model=GPT_MODEL,\n",
    "    messages=[\n",
    "        {'role': 'system', 'content': 'You are a helpful English-Vietnamese translation assistant.'},\n",
    "        {'role': 'user', 'content': azureai_redacted_prompt}\n",
    "    ]\n",
    ")\n",
    "res_text = res.choices[0].message.content\n",
    "print(res_text)"
   ]
  },
  {
   "cell_type": "code",
   "execution_count": null,
   "metadata": {},
   "outputs": [],
   "source": []
  }
 ],
 "metadata": {
  "kernelspec": {
   "display_name": "Python (guardrailsai-env)",
   "language": "python",
   "name": "guardrailsai-env"
  },
  "language_info": {
   "codemirror_mode": {
    "name": "ipython",
    "version": 3
   },
   "file_extension": ".py",
   "mimetype": "text/x-python",
   "name": "python",
   "nbconvert_exporter": "python",
   "pygments_lexer": "ipython3",
   "version": "3.9.20"
  }
 },
 "nbformat": 4,
 "nbformat_minor": 2
}
