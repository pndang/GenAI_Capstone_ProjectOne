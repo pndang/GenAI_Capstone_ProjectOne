{
 "cells": [
  {
   "cell_type": "markdown",
   "metadata": {},
   "source": [
    "### Scenario 1, Prompt 1 - Data (De)anonymization for enhanced privacy\n",
    "\n",
    "Visit [webpage](https://pndang.com/GenAI_Capstone_ProjectOne/) for more details.\n",
    "\n",
    "Test prompt: 1 - \n",
    "\"\"\" \n",
    "    Please translate the following to Vietnamese: \n",
    "\n",
    "    \"Hi Robert! Please see below for your requested info\n",
    "\n",
    "    full name: Phu Dang\n",
    "    SSN: 123-45-1119\n",
    "    email: pndang@ucsd.edu\n",
    "    birthday: 04/11/2003, so I am 21 years old\n",
    "    What's your nationality? I am a Vietnamese citizen\n",
    "    What's your credit score? 775 FICO\n",
    "    What's the loan amount requested? $1,000,000\n",
    "    What's the loan purpose? Invest $500,000 in Sustana Cooling Partners as working capital and cash out the rest for my hi-performing restaurant business (Beers & Bastards, LLC). \n",
    "\n",
    "    Please ping me the best terms you could offer. Thanks!\" \n",
    "\n",
    "\"\"\""
   ]
  },
  {
   "cell_type": "code",
   "execution_count": 2,
   "metadata": {},
   "outputs": [],
   "source": [
    "from openai import OpenAI\n",
    "from dotenv import load_dotenv\n",
    "import os\n",
    "\n",
    "load_dotenv()\n",
    "\n",
    "GPT_MODEL = 'gpt-4' \n",
    "\n",
    "# API Configuration\n",
    "os.environ['OPENAI_API_KEY'] = os.getenv('OPENAI_API_KEY')\n",
    "OpenAI.api_key = os.getenv('OPENAI_API_KEY') \n",
    "\n",
    "import warnings\n",
    "warnings.filterwarnings(\"ignore\")"
   ]
  },
  {
   "cell_type": "markdown",
   "metadata": {},
   "source": [
    "#### Protect AI's LLM Guard first up!"
   ]
  },
  {
   "cell_type": "code",
   "execution_count": 3,
   "metadata": {},
   "outputs": [],
   "source": [
    "from llm_guard import scan_output, scan_prompt \n",
    "from llm_guard.input_scanners import Anonymize\n",
    "from llm_guard.output_scanners import Deanonymize\n",
    "from llm_guard.vault import Vault  \n",
    "# anonymized contents are stored in Vault (a storage mechanism) to later re-identify prompts\n",
    "\n",
    "# EXTRA IMPORTS\n",
    "from llm_guard.input_scanners import Regex\n",
    "from llm_guard.input_scanners.regex import MatchType"
   ]
  },
  {
   "cell_type": "code",
   "execution_count": 4,
   "metadata": {},
   "outputs": [
    {
     "name": "stdout",
     "output_type": "stream",
     "text": [
      "2024-12-01 05:38:59 [debug    ] No entity types provided, using default default_entities=['CREDIT_CARD', 'CRYPTO', 'EMAIL_ADDRESS', 'IBAN_CODE', 'IP_ADDRESS', 'PERSON', 'PHONE_NUMBER', 'US_SSN', 'US_BANK_NUMBER', 'CREDIT_CARD_RE', 'UUID', 'EMAIL_ADDRESS_RE', 'US_SSN_RE']\n",
      "2024-12-01 05:38:59 [debug    ] Initialized NER model          device=device(type='cpu') model=Model(path='Isotonic/deberta-v3-base_finetuned_ai4privacy_v2', subfolder='', revision='9ea992753ab2686be4a8f64605ccc7be197ad794', onnx_path='Isotonic/deberta-v3-base_finetuned_ai4privacy_v2', onnx_revision='9ea992753ab2686be4a8f64605ccc7be197ad794', onnx_subfolder='onnx', onnx_filename='model.onnx', kwargs={}, pipeline_kwargs={'batch_size': 1, 'device': device(type='cpu'), 'aggregation_strategy': 'simple'}, tokenizer_kwargs={'model_input_names': ['input_ids', 'attention_mask']})\n",
      "2024-12-01 05:38:59 [debug    ] Loaded regex pattern           group_name=CREDIT_CARD_RE\n",
      "2024-12-01 05:38:59 [debug    ] Loaded regex pattern           group_name=UUID\n",
      "2024-12-01 05:38:59 [debug    ] Loaded regex pattern           group_name=EMAIL_ADDRESS_RE\n",
      "2024-12-01 05:38:59 [debug    ] Loaded regex pattern           group_name=US_SSN_RE\n",
      "2024-12-01 05:38:59 [debug    ] Loaded regex pattern           group_name=BTC_ADDRESS\n",
      "2024-12-01 05:38:59 [debug    ] Loaded regex pattern           group_name=URL_RE\n",
      "2024-12-01 05:38:59 [debug    ] Loaded regex pattern           group_name=CREDIT_CARD\n",
      "2024-12-01 05:38:59 [debug    ] Loaded regex pattern           group_name=EMAIL_ADDRESS_RE\n",
      "2024-12-01 05:38:59 [debug    ] Loaded regex pattern           group_name=PHONE_NUMBER_ZH\n",
      "2024-12-01 05:38:59 [debug    ] Loaded regex pattern           group_name=PHONE_NUMBER_WITH_EXT\n",
      "2024-12-01 05:38:59 [debug    ] Loaded regex pattern           group_name=DATE_RE\n",
      "2024-12-01 05:38:59 [debug    ] Loaded regex pattern           group_name=TIME_RE\n",
      "2024-12-01 05:38:59 [debug    ] Loaded regex pattern           group_name=HEX_COLOR\n",
      "2024-12-01 05:38:59 [debug    ] Loaded regex pattern           group_name=PRICE_RE\n",
      "2024-12-01 05:38:59 [debug    ] Loaded regex pattern           group_name=PO_BOX_RE\n"
     ]
    }
   ],
   "source": [
    "# set up LLM Guard components\n",
    "\n",
    "client = OpenAI(api_key=os.environ['OPENAI_API_KEY'])\n",
    "vault = Vault()\n",
    "input_scanners = [Anonymize(vault)]\n",
    "output_scanners = [Deanonymize(vault)]"
   ]
  },
  {
   "cell_type": "code",
   "execution_count": 5,
   "metadata": {},
   "outputs": [],
   "source": [
    "# test prompt\n",
    "\n",
    "prompt = \"\"\"Please translate the following to Vietnamese: \n",
    "\n",
    "    \"Hi Robert! Please see below for your requested info\n",
    "\n",
    "    full name: Phu Dang\n",
    "    SSN: 123-45-1119\n",
    "    email: pndang@ucsd.edu\n",
    "    birthday: 04/11/2003, so I am 21 years old\n",
    "    What's your nationality? I am a Vietnamese citizen\n",
    "    What's your credit score? 775 FICO\n",
    "    What's the loan amount requested? $1,000,000\n",
    "    What's the loan purpose? Invest $500,000 in Sustana Cooling Partners as working capital and cash out the rest for my hi-performing restaurant business (Beers & Bastards, LLC). \n",
    "\n",
    "    Please ping me the best terms you could offer. Thanks!\"\n",
    "    \"\"\""
   ]
  },
  {
   "cell_type": "code",
   "execution_count": 6,
   "metadata": {},
   "outputs": [
    {
     "name": "stderr",
     "output_type": "stream",
     "text": [
      "Asking to truncate to max_length but no maximum length is provided and the model has no predefined maximum length. Default to no truncation.\n"
     ]
    },
    {
     "name": "stdout",
     "output_type": "stream",
     "text": [
      "2024-12-01 05:39:03 [warning  ] Found unrecognized label, returning entity as is label=CREDITCARDCVV\n",
      "2024-12-01 05:39:03 [warning  ] Found entity which is not supported by Presidio entity=DATE_OF_BIRTH\n",
      "2024-12-01 05:39:03 [warning  ] Found entity which is not supported by Presidio entity=AGE\n",
      "2024-12-01 05:39:03 [warning  ] Found unrecognized label, returning entity as is label=CURRENCYSYMBOL\n",
      "2024-12-01 05:39:03 [warning  ] Found unrecognized label, returning entity as is label=CURRENCYSYMBOL\n",
      "2024-12-01 05:39:03 [warning  ] Found unrecognized label, returning entity as is label=ACCOUNTNUMBER\n",
      "2024-12-01 05:39:03 [debug    ] removing element type: US_SSN_RE, start: 139, end: 150, score: 0.75 from results list due to conflict\n",
      "2024-12-01 05:39:03 [debug    ] removing element type: EMAIL_ADDRESS_RE, start: 162, end: 177, score: 0.75 from results list due to conflict\n",
      "2024-12-01 05:39:03 [warning  ] Found sensitive data in the prompt and replaced it merged_results=[type: PERSON, start: 56, end: 62, score: 1.0, type: PERSON, start: 121, end: 129, score: 0.9900000095367432, type: US_SSN, start: 139, end: 150, score: 0.85, type: EMAIL_ADDRESS, start: 162, end: 177, score: 1.0] risk_score=1.0\n",
      "2024-12-01 05:39:03 [debug    ] Scanner completed              elapsed_time_seconds=0.353731 is_valid=False scanner=Anonymize\n",
      "2024-12-01 05:39:03 [info     ] Scanned prompt                 elapsed_time_seconds=0.359488 scores={'Anonymize': 1.0}\n",
      "Prompt Please translate the following to Vietnamese: \n",
      "\n",
      "    \"Hi Robert! Please see below for your requested info\n",
      "\n",
      "    full name: Phu Dang\n",
      "    SSN: 123-45-1119\n",
      "    email: pndang@ucsd.edu\n",
      "    birthday: 04/11/2003, so I am 21 years old\n",
      "    What's your nationality? I am a Vietnamese citizen\n",
      "    What's your credit score? 775 FICO\n",
      "    What's the loan amount requested? $1,000,000\n",
      "    What's the loan purpose? Invest $500,000 in Sustana Cooling Partners as working capital and cash out the rest for my hi-performing restaurant business (Beers & Bastards, LLC). \n",
      "\n",
      "    Please ping me the best terms you could offer. Thanks!\"\n",
      "     is not valid, scores: {'Anonymize': 1.0}\n"
     ]
    }
   ],
   "source": [
    "# run prompt scanner pipeline\n",
    "\n",
    "sanitized_prompt, results_valid, results_score = scan_prompt(input_scanners, prompt)\n",
    "if any(results_valid.values()) is False:\n",
    "    print(f\"Prompt {prompt} is not valid, scores: {results_score}\")\n",
    "    exit(1)"
   ]
  },
  {
   "cell_type": "code",
   "execution_count": 7,
   "metadata": {},
   "outputs": [
    {
     "name": "stdout",
     "output_type": "stream",
     "text": [
      "Please translate the following to Vietnamese: \n",
      "\n",
      "    \"Hi [REDACTED_PERSON_1]! Please see below for your requested info\n",
      "\n",
      "    full name: [REDACTED_PERSON_2]\n",
      "    SSN: [REDACTED_US_SSN_1]\n",
      "    email: [REDACTED_EMAIL_ADDRESS_1]\n",
      "    birthday: 04/11/2003, so I am 21 years old\n",
      "    What's your nationality? I am a Vietnamese citizen\n",
      "    What's your credit score? 775 FICO\n",
      "    What's the loan amount requested? $1,000,000\n",
      "    What's the loan purpose? Invest $500,000 in Sustana Cooling Partners as working capital and cash out the rest for my hi-performing restaurant business (Beers & Bastards, LLC). \n",
      "\n",
      "    Please ping me the best terms you could offer. Thanks!\"\n",
      "    \n"
     ]
    }
   ],
   "source": [
    "print(sanitized_prompt)"
   ]
  },
  {
   "cell_type": "code",
   "execution_count": 8,
   "metadata": {},
   "outputs": [],
   "source": [
    "# initialize a custome regex scanner func to address the PIIs missed above\n",
    "\n",
    "def llm_guard_regex_scanner(starting_prompt, pattern):\n",
    "    regex_scanner = Regex(\n",
    "        patterns=[pattern],\n",
    "        is_blocked=True,\n",
    "        match_type=MatchType.SEARCH,\n",
    "        redact=True\n",
    "    )\n",
    "\n",
    "    res = regex_scanner.scan(starting_prompt)[0]\n",
    "    return res \n",
    "\n",
    "birthday_regex = r\"\\b\\d{2}/\\d{2}/\\d{4}\\b\"\n",
    "dollar_regex = r\"\\$\\d[0-9,]*\"\n",
    "llc_regex = r\"[a-zA-Z &]*, LLC\"\n",
    "partnership_regex = r\"[A-Z][a-z ]* [A-Z][a-z ]*Partners\"\n",
    "\n",
    "patterns = [birthday_regex, dollar_regex, dollar_regex, llc_regex, partnership_regex]"
   ]
  },
  {
   "cell_type": "code",
   "execution_count": 9,
   "metadata": {},
   "outputs": [
    {
     "name": "stdout",
     "output_type": "stream",
     "text": [
      "2024-12-01 05:39:03 [warning  ] Pattern was detected in the text pattern=re.compile('\\\\b\\\\d{2}/\\\\d{2}/\\\\d{4}\\\\b')\n",
      "2024-12-01 05:39:03 [warning  ] Pattern was detected in the text pattern=re.compile('\\\\$\\\\d[0-9,]*')\n",
      "2024-12-01 05:39:03 [warning  ] Pattern was detected in the text pattern=re.compile('\\\\$\\\\d[0-9,]*')\n",
      "2024-12-01 05:39:03 [warning  ] Pattern was detected in the text pattern=re.compile('[a-zA-Z &]*, LLC')\n",
      "2024-12-01 05:39:03 [warning  ] Pattern was detected in the text pattern=re.compile('[A-Z][a-z ]* [A-Z][a-z ]*Partners')\n"
     ]
    }
   ],
   "source": [
    "# scan imperfect sanitized prompt again\n",
    "\n",
    "prior_regex_prompt = sanitized_prompt\n",
    "\n",
    "for pattern in patterns:\n",
    "    result = llm_guard_regex_scanner(prior_regex_prompt, pattern)\n",
    "    prior_regex_prompt = result\n",
    "\n",
    "after_regex_prompt = prior_regex_prompt"
   ]
  },
  {
   "cell_type": "code",
   "execution_count": 10,
   "metadata": {},
   "outputs": [
    {
     "name": "stdout",
     "output_type": "stream",
     "text": [
      "Please translate the following to Vietnamese: \n",
      "\n",
      "    \"Hi [REDACTED_PERSON_1]! Please see below for your requested info\n",
      "\n",
      "    full name: [REDACTED_PERSON_2]\n",
      "    SSN: [REDACTED_US_SSN_1]\n",
      "    email: [REDACTED_EMAIL_ADDRESS_1]\n",
      "    birthday: [REDACTED], so I am 21 years old\n",
      "    What's your nationality? I am a Vietnamese citizen\n",
      "    What's your credit score? 775 FICO\n",
      "    What's the loan amount requested? [REDACTED]\n",
      "    What's the loan purpose? Invest [REDACTED] in [REDACTED] as working capital and cash out the rest for my hi-performing restaurant business ([REDACTED]). \n",
      "\n",
      "    Please ping me the best terms you could offer. Thanks!\"\n",
      "    \n"
     ]
    }
   ],
   "source": [
    "print(after_regex_prompt)"
   ]
  },
  {
   "cell_type": "code",
   "execution_count": 11,
   "metadata": {},
   "outputs": [
    {
     "name": "stdout",
     "output_type": "stream",
     "text": [
      "\"Xin chào [REDACTED_PERSON_1]! Xin vui lòng xem thông tin bạn yêu cầu dưới đây:\n",
      "\n",
      "    họ và tên: [REDACTED_PERSON_2]\n",
      "    SSN: [REDACTED_US_SSN_1]\n",
      "    email: [REDACTED_EMAIL_ADDRESS_1]\n",
      "    ngày sinh: [REDACTED], vì vậy tôi 21 tuổi\n",
      "    Quốc tịch của bạn là gì? Tôi là công dân Việt Nam\n",
      "    Điểm tín dụng của bạn là bao nhiêu? 775 FICO\n",
      "    Số tiền vay yêu cầu là bao nhiêu? [REDACTED]\n",
      "    Mục đích vay vốn là gì? Đầu tư [REDACTED] vào [REDACTED] làm vốn lưu động và rút phần còn lại cho doanh nghiệp nhà hàng hiệu suất cao của tôi ([REDACTED]).\n",
      "\n",
      "    Xin hãy gửi cho tôi các điều khoản tốt nhất bạn có thể cung cấp. Cảm ơn!\"\n"
     ]
    }
   ],
   "source": [
    "# translate\n",
    "\n",
    "res = client.chat.completions.create(\n",
    "    model=GPT_MODEL,\n",
    "    messages=[\n",
    "        {'role': 'system', 'content': 'You are a helpful English-Vietnamese translation assistant.'},\n",
    "        {'role': 'user', 'content': after_regex_prompt}\n",
    "    ]\n",
    ")\n",
    "res_text = res.choices[0].message.content\n",
    "print(res_text)"
   ]
  },
  {
   "cell_type": "code",
   "execution_count": 12,
   "metadata": {},
   "outputs": [
    {
     "name": "stdout",
     "output_type": "stream",
     "text": [
      "2024-12-01 05:39:12 [debug    ] Replaced placeholder with real value placeholder=[REDACTED_EMAIL_ADDRESS_1]\n",
      "2024-12-01 05:39:12 [debug    ] Replaced placeholder with real value placeholder=[REDACTED_US_SSN_1]\n",
      "2024-12-01 05:39:12 [debug    ] Replaced placeholder with real value placeholder=[REDACTED_PERSON_2]\n",
      "2024-12-01 05:39:12 [debug    ] Replaced placeholder with real value placeholder=[REDACTED_PERSON_1]\n",
      "2024-12-01 05:39:12 [debug    ] Scanner completed              elapsed_time_seconds=0.013102 is_valid=True scanner=Deanonymize\n",
      "2024-12-01 05:39:12 [info     ] Scanned output                 elapsed_time_seconds=0.018101 scores={'Deanonymize': 0.0}\n",
      "\"Xin chào Robert! Xin vui lòng xem thông tin bạn yêu cầu dưới đây:\n",
      "\n",
      "    họ và tên: Phu Dang\n",
      "    SSN: 123-45-1119\n",
      "    email: pndang@ucsd.edu\n",
      "    ngày sinh: [REDACTED], vì vậy tôi 21 tuổi\n",
      "    Quốc tịch của bạn là gì? Tôi là công dân Việt Nam\n",
      "    Điểm tín dụng của bạn là bao nhiêu? 775 FICO\n",
      "    Số tiền vay yêu cầu là bao nhiêu? [REDACTED]\n",
      "    Mục đích vay vốn là gì? Đầu tư [REDACTED] vào [REDACTED] làm vốn lưu động và rút phần còn lại cho doanh nghiệp nhà hàng hiệu suất cao của tôi ([REDACTED]).\n",
      "\n",
      "    Xin hãy gửi cho tôi các điều khoản tốt nhất bạn có thể cung cấp. Cảm ơn!\"\n"
     ]
    }
   ],
   "source": [
    "# re-identify the results by adding the removed PIIs back\n",
    "\n",
    "deanonymized_res_text = scan_output(\n",
    "    output_scanners, after_regex_prompt, res_text\n",
    ")\n",
    "print(deanonymized_res_text[0])"
   ]
  },
  {
   "cell_type": "markdown",
   "metadata": {},
   "source": [
    "##### Notes on S1P1 (Protect AI)\n",
    "- Optional or under-the-hood MS Presidio implementation\n",
    "- Vault functionalities lost with custom regex (final output misses PIIs treated with custom regex)\n",
    "- simply says \"REDACTED\", little human readability\n",
    "\n",
    "final sanitized prompt:\n",
    "\n",
    "    \"Please translate the following to Vietnamese: \n",
    "\n",
    "    \"Hi [REDACTED_PERSON_1]! Please see below for your requested info\n",
    "\n",
    "    full name: [REDACTED_PERSON_2]\n",
    "    SSN: [REDACTED_US_SSN_RE_1]\n",
    "    email: [REDACTED_EMAIL_ADDRESS_1]\n",
    "    birthday: [REDACTED], so I am 21 years old\n",
    "    What's your nationality? I am a Vietnamese citizen\n",
    "    What's your credit score? 775 FICO\n",
    "    What's the loan amount requested? [REDACTED]\n",
    "    What's the loan purpose? Invest [REDACTED] in [REDACTED] as working capital and cash out the rest for my hi-performing restaurant business ([REDACTED]). \n",
    "\n",
    "    Please ping me the best terms you could offer. Thanks!\"\n",
    "\n",
    "final output:\n",
    "\n",
    "    \"Xin chào Robert! Xin xem phía dưới để biết thông tin bạn đã yêu cầu\n",
    "\n",
    "    Họ và tên: Phu Dang\n",
    "    SSN: 123-45-6789\n",
    "    Email: pndang@ucsd.edu\n",
    "    Ngày sinh: [REDACTED], vì vậy tôi đã 21 tuổi\n",
    "    Quốc tịch của bạn là gì? Tôi là công dân Việt Nam\n",
    "    Điểm tín dụng của bạn là bao nhiêu? 775 FICO\n",
    "    Số tiền vay yêu cầu là bao nhiêu? [REDACTED]\n",
    "    Mục đích vay là gì? Đầu tư [REDACTED] vào [REDACTED] làm vốn lưu động và rút tiền mặt phần còn lại cho doanh nghiệp nhà hàng hiệu suất cao của tôi ([REDACTED]).\n",
    "\n",
    "    Xin vui lòng gửi cho tôi những điều khoản tốt nhất bạn có thể cung cấp. Cảm ơn!\""
   ]
  },
  {
   "cell_type": "markdown",
   "metadata": {},
   "source": [
    "______________"
   ]
  },
  {
   "cell_type": "markdown",
   "metadata": {},
   "source": [
    "#### Guardrails AI's DetectPII + Microsoft Presidio up next!\n",
    "\n",
    "Switch notebook to scen1prom1_guardrailsai.ipynb due to conflicting dependencies with Protect AI"
   ]
  },
  {
   "cell_type": "code",
   "execution_count": null,
   "metadata": {},
   "outputs": [],
   "source": []
  }
 ],
 "metadata": {
  "kernelspec": {
   "display_name": "dev-venv",
   "language": "python",
   "name": "python3"
  },
  "language_info": {
   "codemirror_mode": {
    "name": "ipython",
    "version": 3
   },
   "file_extension": ".py",
   "mimetype": "text/x-python",
   "name": "python",
   "nbconvert_exporter": "python",
   "pygments_lexer": "ipython3",
   "version": "3.10.0"
  }
 },
 "nbformat": 4,
 "nbformat_minor": 2
}
